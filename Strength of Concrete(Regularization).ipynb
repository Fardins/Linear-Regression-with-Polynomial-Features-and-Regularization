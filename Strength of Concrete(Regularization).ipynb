{
 "cells": [
  {
   "cell_type": "code",
   "execution_count": 1,
   "id": "738c9a97",
   "metadata": {},
   "outputs": [],
   "source": [
    "import pandas as pd\n",
    "import sklearn\n",
    "from sklearn.linear_model import LinearRegression, Lasso, Ridge\n",
    "from sklearn.model_selection import train_test_split\n",
    "from sklearn.metrics import mean_squared_error"
   ]
  },
  {
   "cell_type": "code",
   "execution_count": 2,
   "id": "87f78a7c",
   "metadata": {},
   "outputs": [
    {
     "data": {
      "text/html": [
       "<div>\n",
       "<style scoped>\n",
       "    .dataframe tbody tr th:only-of-type {\n",
       "        vertical-align: middle;\n",
       "    }\n",
       "\n",
       "    .dataframe tbody tr th {\n",
       "        vertical-align: top;\n",
       "    }\n",
       "\n",
       "    .dataframe thead th {\n",
       "        text-align: right;\n",
       "    }\n",
       "</style>\n",
       "<table border=\"1\" class=\"dataframe\">\n",
       "  <thead>\n",
       "    <tr style=\"text-align: right;\">\n",
       "      <th></th>\n",
       "      <th>Cement</th>\n",
       "      <th>Blast Furnace Slag</th>\n",
       "      <th>Fly Ash</th>\n",
       "      <th>Water</th>\n",
       "      <th>Superplasticizer</th>\n",
       "      <th>Coarse Aggregate</th>\n",
       "      <th>Fine Aggregate</th>\n",
       "      <th>Age</th>\n",
       "      <th>Strength</th>\n",
       "    </tr>\n",
       "  </thead>\n",
       "  <tbody>\n",
       "    <tr>\n",
       "      <th>0</th>\n",
       "      <td>540.0</td>\n",
       "      <td>0.0</td>\n",
       "      <td>0.0</td>\n",
       "      <td>162.0</td>\n",
       "      <td>2.5</td>\n",
       "      <td>1040.0</td>\n",
       "      <td>676.0</td>\n",
       "      <td>28</td>\n",
       "      <td>79.99</td>\n",
       "    </tr>\n",
       "    <tr>\n",
       "      <th>1</th>\n",
       "      <td>540.0</td>\n",
       "      <td>0.0</td>\n",
       "      <td>0.0</td>\n",
       "      <td>162.0</td>\n",
       "      <td>2.5</td>\n",
       "      <td>1055.0</td>\n",
       "      <td>676.0</td>\n",
       "      <td>28</td>\n",
       "      <td>61.89</td>\n",
       "    </tr>\n",
       "    <tr>\n",
       "      <th>2</th>\n",
       "      <td>332.5</td>\n",
       "      <td>142.5</td>\n",
       "      <td>0.0</td>\n",
       "      <td>228.0</td>\n",
       "      <td>0.0</td>\n",
       "      <td>932.0</td>\n",
       "      <td>594.0</td>\n",
       "      <td>270</td>\n",
       "      <td>40.27</td>\n",
       "    </tr>\n",
       "    <tr>\n",
       "      <th>3</th>\n",
       "      <td>332.5</td>\n",
       "      <td>142.5</td>\n",
       "      <td>0.0</td>\n",
       "      <td>228.0</td>\n",
       "      <td>0.0</td>\n",
       "      <td>932.0</td>\n",
       "      <td>594.0</td>\n",
       "      <td>365</td>\n",
       "      <td>41.05</td>\n",
       "    </tr>\n",
       "    <tr>\n",
       "      <th>4</th>\n",
       "      <td>198.6</td>\n",
       "      <td>132.4</td>\n",
       "      <td>0.0</td>\n",
       "      <td>192.0</td>\n",
       "      <td>0.0</td>\n",
       "      <td>978.4</td>\n",
       "      <td>825.5</td>\n",
       "      <td>360</td>\n",
       "      <td>44.30</td>\n",
       "    </tr>\n",
       "  </tbody>\n",
       "</table>\n",
       "</div>"
      ],
      "text/plain": [
       "   Cement  Blast Furnace Slag  Fly Ash  Water  Superplasticizer  \\\n",
       "0   540.0                 0.0      0.0  162.0               2.5   \n",
       "1   540.0                 0.0      0.0  162.0               2.5   \n",
       "2   332.5               142.5      0.0  228.0               0.0   \n",
       "3   332.5               142.5      0.0  228.0               0.0   \n",
       "4   198.6               132.4      0.0  192.0               0.0   \n",
       "\n",
       "   Coarse Aggregate  Fine Aggregate  Age  Strength  \n",
       "0            1040.0           676.0   28     79.99  \n",
       "1            1055.0           676.0   28     61.89  \n",
       "2             932.0           594.0  270     40.27  \n",
       "3             932.0           594.0  365     41.05  \n",
       "4             978.4           825.5  360     44.30  "
      ]
     },
     "execution_count": 2,
     "metadata": {},
     "output_type": "execute_result"
    }
   ],
   "source": [
    "df = pd.read_csv('concrete_data.csv')\n",
    "df.head()"
   ]
  },
  {
   "cell_type": "code",
   "execution_count": 3,
   "id": "1ec8ca2e",
   "metadata": {},
   "outputs": [],
   "source": [
    "x = df[['Cement','Blast Furnace Slag','Fly Ash','Water','Superplasticizer','Coarse Aggregate','Coarse Aggregate','Fine Aggregate','Age']]"
   ]
  },
  {
   "cell_type": "code",
   "execution_count": 4,
   "id": "be2d86e1",
   "metadata": {},
   "outputs": [
    {
     "data": {
      "text/html": [
       "<div>\n",
       "<style scoped>\n",
       "    .dataframe tbody tr th:only-of-type {\n",
       "        vertical-align: middle;\n",
       "    }\n",
       "\n",
       "    .dataframe tbody tr th {\n",
       "        vertical-align: top;\n",
       "    }\n",
       "\n",
       "    .dataframe thead th {\n",
       "        text-align: right;\n",
       "    }\n",
       "</style>\n",
       "<table border=\"1\" class=\"dataframe\">\n",
       "  <thead>\n",
       "    <tr style=\"text-align: right;\">\n",
       "      <th></th>\n",
       "      <th>Cement</th>\n",
       "      <th>Blast Furnace Slag</th>\n",
       "      <th>Fly Ash</th>\n",
       "      <th>Water</th>\n",
       "      <th>Superplasticizer</th>\n",
       "      <th>Coarse Aggregate</th>\n",
       "      <th>Coarse Aggregate</th>\n",
       "      <th>Fine Aggregate</th>\n",
       "      <th>Age</th>\n",
       "    </tr>\n",
       "  </thead>\n",
       "  <tbody>\n",
       "    <tr>\n",
       "      <th>0</th>\n",
       "      <td>540.0</td>\n",
       "      <td>0.0</td>\n",
       "      <td>0.0</td>\n",
       "      <td>162.0</td>\n",
       "      <td>2.5</td>\n",
       "      <td>1040.0</td>\n",
       "      <td>1040.0</td>\n",
       "      <td>676.0</td>\n",
       "      <td>28</td>\n",
       "    </tr>\n",
       "    <tr>\n",
       "      <th>1</th>\n",
       "      <td>540.0</td>\n",
       "      <td>0.0</td>\n",
       "      <td>0.0</td>\n",
       "      <td>162.0</td>\n",
       "      <td>2.5</td>\n",
       "      <td>1055.0</td>\n",
       "      <td>1055.0</td>\n",
       "      <td>676.0</td>\n",
       "      <td>28</td>\n",
       "    </tr>\n",
       "    <tr>\n",
       "      <th>2</th>\n",
       "      <td>332.5</td>\n",
       "      <td>142.5</td>\n",
       "      <td>0.0</td>\n",
       "      <td>228.0</td>\n",
       "      <td>0.0</td>\n",
       "      <td>932.0</td>\n",
       "      <td>932.0</td>\n",
       "      <td>594.0</td>\n",
       "      <td>270</td>\n",
       "    </tr>\n",
       "    <tr>\n",
       "      <th>3</th>\n",
       "      <td>332.5</td>\n",
       "      <td>142.5</td>\n",
       "      <td>0.0</td>\n",
       "      <td>228.0</td>\n",
       "      <td>0.0</td>\n",
       "      <td>932.0</td>\n",
       "      <td>932.0</td>\n",
       "      <td>594.0</td>\n",
       "      <td>365</td>\n",
       "    </tr>\n",
       "    <tr>\n",
       "      <th>4</th>\n",
       "      <td>198.6</td>\n",
       "      <td>132.4</td>\n",
       "      <td>0.0</td>\n",
       "      <td>192.0</td>\n",
       "      <td>0.0</td>\n",
       "      <td>978.4</td>\n",
       "      <td>978.4</td>\n",
       "      <td>825.5</td>\n",
       "      <td>360</td>\n",
       "    </tr>\n",
       "  </tbody>\n",
       "</table>\n",
       "</div>"
      ],
      "text/plain": [
       "   Cement  Blast Furnace Slag  Fly Ash  Water  Superplasticizer  \\\n",
       "0   540.0                 0.0      0.0  162.0               2.5   \n",
       "1   540.0                 0.0      0.0  162.0               2.5   \n",
       "2   332.5               142.5      0.0  228.0               0.0   \n",
       "3   332.5               142.5      0.0  228.0               0.0   \n",
       "4   198.6               132.4      0.0  192.0               0.0   \n",
       "\n",
       "   Coarse Aggregate  Coarse Aggregate  Fine Aggregate  Age  \n",
       "0            1040.0            1040.0           676.0   28  \n",
       "1            1055.0            1055.0           676.0   28  \n",
       "2             932.0             932.0           594.0  270  \n",
       "3             932.0             932.0           594.0  365  \n",
       "4             978.4             978.4           825.5  360  "
      ]
     },
     "execution_count": 4,
     "metadata": {},
     "output_type": "execute_result"
    }
   ],
   "source": [
    "x.head()"
   ]
  },
  {
   "cell_type": "code",
   "execution_count": 5,
   "id": "1d44699c",
   "metadata": {},
   "outputs": [
    {
     "data": {
      "text/html": [
       "<div>\n",
       "<style scoped>\n",
       "    .dataframe tbody tr th:only-of-type {\n",
       "        vertical-align: middle;\n",
       "    }\n",
       "\n",
       "    .dataframe tbody tr th {\n",
       "        vertical-align: top;\n",
       "    }\n",
       "\n",
       "    .dataframe thead th {\n",
       "        text-align: right;\n",
       "    }\n",
       "</style>\n",
       "<table border=\"1\" class=\"dataframe\">\n",
       "  <thead>\n",
       "    <tr style=\"text-align: right;\">\n",
       "      <th></th>\n",
       "      <th>Strength</th>\n",
       "    </tr>\n",
       "  </thead>\n",
       "  <tbody>\n",
       "    <tr>\n",
       "      <th>0</th>\n",
       "      <td>79.99</td>\n",
       "    </tr>\n",
       "    <tr>\n",
       "      <th>1</th>\n",
       "      <td>61.89</td>\n",
       "    </tr>\n",
       "    <tr>\n",
       "      <th>2</th>\n",
       "      <td>40.27</td>\n",
       "    </tr>\n",
       "    <tr>\n",
       "      <th>3</th>\n",
       "      <td>41.05</td>\n",
       "    </tr>\n",
       "    <tr>\n",
       "      <th>4</th>\n",
       "      <td>44.30</td>\n",
       "    </tr>\n",
       "  </tbody>\n",
       "</table>\n",
       "</div>"
      ],
      "text/plain": [
       "   Strength\n",
       "0     79.99\n",
       "1     61.89\n",
       "2     40.27\n",
       "3     41.05\n",
       "4     44.30"
      ]
     },
     "execution_count": 5,
     "metadata": {},
     "output_type": "execute_result"
    }
   ],
   "source": [
    "y = df[['Strength']]\n",
    "y.head()"
   ]
  },
  {
   "cell_type": "code",
   "execution_count": 6,
   "id": "8d0d3f10",
   "metadata": {},
   "outputs": [],
   "source": [
    "xtrain, xtest, ytrain, ytest = train_test_split(x, y, test_size=0.25, random_state=0)"
   ]
  },
  {
   "cell_type": "code",
   "execution_count": 7,
   "id": "e1bc8d1b",
   "metadata": {},
   "outputs": [
    {
     "data": {
      "text/plain": [
       "(772, 9)"
      ]
     },
     "execution_count": 7,
     "metadata": {},
     "output_type": "execute_result"
    }
   ],
   "source": [
    "xtrain.shape"
   ]
  },
  {
   "cell_type": "code",
   "execution_count": 8,
   "id": "a0f1235d",
   "metadata": {},
   "outputs": [
    {
     "data": {
      "text/plain": [
       "(258, 9)"
      ]
     },
     "execution_count": 8,
     "metadata": {},
     "output_type": "execute_result"
    }
   ],
   "source": [
    "xtest.shape"
   ]
  },
  {
   "cell_type": "markdown",
   "id": "0e435136",
   "metadata": {},
   "source": [
    "# OLS"
   ]
  },
  {
   "cell_type": "code",
   "execution_count": 9,
   "id": "e36acbee",
   "metadata": {},
   "outputs": [
    {
     "data": {
      "text/html": [
       "<style>#sk-container-id-1 {color: black;}#sk-container-id-1 pre{padding: 0;}#sk-container-id-1 div.sk-toggleable {background-color: white;}#sk-container-id-1 label.sk-toggleable__label {cursor: pointer;display: block;width: 100%;margin-bottom: 0;padding: 0.3em;box-sizing: border-box;text-align: center;}#sk-container-id-1 label.sk-toggleable__label-arrow:before {content: \"▸\";float: left;margin-right: 0.25em;color: #696969;}#sk-container-id-1 label.sk-toggleable__label-arrow:hover:before {color: black;}#sk-container-id-1 div.sk-estimator:hover label.sk-toggleable__label-arrow:before {color: black;}#sk-container-id-1 div.sk-toggleable__content {max-height: 0;max-width: 0;overflow: hidden;text-align: left;background-color: #f0f8ff;}#sk-container-id-1 div.sk-toggleable__content pre {margin: 0.2em;color: black;border-radius: 0.25em;background-color: #f0f8ff;}#sk-container-id-1 input.sk-toggleable__control:checked~div.sk-toggleable__content {max-height: 200px;max-width: 100%;overflow: auto;}#sk-container-id-1 input.sk-toggleable__control:checked~label.sk-toggleable__label-arrow:before {content: \"▾\";}#sk-container-id-1 div.sk-estimator input.sk-toggleable__control:checked~label.sk-toggleable__label {background-color: #d4ebff;}#sk-container-id-1 div.sk-label input.sk-toggleable__control:checked~label.sk-toggleable__label {background-color: #d4ebff;}#sk-container-id-1 input.sk-hidden--visually {border: 0;clip: rect(1px 1px 1px 1px);clip: rect(1px, 1px, 1px, 1px);height: 1px;margin: -1px;overflow: hidden;padding: 0;position: absolute;width: 1px;}#sk-container-id-1 div.sk-estimator {font-family: monospace;background-color: #f0f8ff;border: 1px dotted black;border-radius: 0.25em;box-sizing: border-box;margin-bottom: 0.5em;}#sk-container-id-1 div.sk-estimator:hover {background-color: #d4ebff;}#sk-container-id-1 div.sk-parallel-item::after {content: \"\";width: 100%;border-bottom: 1px solid gray;flex-grow: 1;}#sk-container-id-1 div.sk-label:hover label.sk-toggleable__label {background-color: #d4ebff;}#sk-container-id-1 div.sk-serial::before {content: \"\";position: absolute;border-left: 1px solid gray;box-sizing: border-box;top: 0;bottom: 0;left: 50%;z-index: 0;}#sk-container-id-1 div.sk-serial {display: flex;flex-direction: column;align-items: center;background-color: white;padding-right: 0.2em;padding-left: 0.2em;position: relative;}#sk-container-id-1 div.sk-item {position: relative;z-index: 1;}#sk-container-id-1 div.sk-parallel {display: flex;align-items: stretch;justify-content: center;background-color: white;position: relative;}#sk-container-id-1 div.sk-item::before, #sk-container-id-1 div.sk-parallel-item::before {content: \"\";position: absolute;border-left: 1px solid gray;box-sizing: border-box;top: 0;bottom: 0;left: 50%;z-index: -1;}#sk-container-id-1 div.sk-parallel-item {display: flex;flex-direction: column;z-index: 1;position: relative;background-color: white;}#sk-container-id-1 div.sk-parallel-item:first-child::after {align-self: flex-end;width: 50%;}#sk-container-id-1 div.sk-parallel-item:last-child::after {align-self: flex-start;width: 50%;}#sk-container-id-1 div.sk-parallel-item:only-child::after {width: 0;}#sk-container-id-1 div.sk-dashed-wrapped {border: 1px dashed gray;margin: 0 0.4em 0.5em 0.4em;box-sizing: border-box;padding-bottom: 0.4em;background-color: white;}#sk-container-id-1 div.sk-label label {font-family: monospace;font-weight: bold;display: inline-block;line-height: 1.2em;}#sk-container-id-1 div.sk-label-container {text-align: center;}#sk-container-id-1 div.sk-container {/* jupyter's `normalize.less` sets `[hidden] { display: none; }` but bootstrap.min.css set `[hidden] { display: none !important; }` so we also need the `!important` here to be able to override the default hidden behavior on the sphinx rendered scikit-learn.org. See: https://github.com/scikit-learn/scikit-learn/issues/21755 */display: inline-block !important;position: relative;}#sk-container-id-1 div.sk-text-repr-fallback {display: none;}</style><div id=\"sk-container-id-1\" class=\"sk-top-container\"><div class=\"sk-text-repr-fallback\"><pre>LinearRegression()</pre><b>In a Jupyter environment, please rerun this cell to show the HTML representation or trust the notebook. <br />On GitHub, the HTML representation is unable to render, please try loading this page with nbviewer.org.</b></div><div class=\"sk-container\" hidden><div class=\"sk-item\"><div class=\"sk-estimator sk-toggleable\"><input class=\"sk-toggleable__control sk-hidden--visually\" id=\"sk-estimator-id-1\" type=\"checkbox\" checked><label for=\"sk-estimator-id-1\" class=\"sk-toggleable__label sk-toggleable__label-arrow\">LinearRegression</label><div class=\"sk-toggleable__content\"><pre>LinearRegression()</pre></div></div></div></div></div>"
      ],
      "text/plain": [
       "LinearRegression()"
      ]
     },
     "execution_count": 9,
     "metadata": {},
     "output_type": "execute_result"
    }
   ],
   "source": [
    "model = LinearRegression()\n",
    "model.fit(xtrain, ytrain)"
   ]
  },
  {
   "cell_type": "code",
   "execution_count": 10,
   "id": "3c32fc2f",
   "metadata": {},
   "outputs": [],
   "source": [
    "y_pred = model.predict(xtest)"
   ]
  },
  {
   "cell_type": "code",
   "execution_count": 11,
   "id": "642e1c05",
   "metadata": {},
   "outputs": [
    {
     "data": {
      "text/plain": [
       "array([[39.54173004],\n",
       "       [14.34766636],\n",
       "       [61.33148723],\n",
       "       [54.02870482],\n",
       "       [24.44257981],\n",
       "       [53.63094459],\n",
       "       [45.98973566],\n",
       "       [27.31187439],\n",
       "       [53.23177832],\n",
       "       [37.08298577],\n",
       "       [16.75983422],\n",
       "       [39.4324516 ],\n",
       "       [29.69334674],\n",
       "       [35.87961914],\n",
       "       [47.63884285],\n",
       "       [56.70862412],\n",
       "       [35.79871479],\n",
       "       [29.36308725],\n",
       "       [48.69052196],\n",
       "       [35.33194214],\n",
       "       [53.80404465],\n",
       "       [32.10561488],\n",
       "       [33.046423  ],\n",
       "       [48.23970516],\n",
       "       [23.61819651],\n",
       "       [23.53591425],\n",
       "       [69.42292047],\n",
       "       [26.76815501],\n",
       "       [56.70862412],\n",
       "       [48.23338891],\n",
       "       [18.9707685 ],\n",
       "       [36.43996199],\n",
       "       [17.42660579],\n",
       "       [19.52438719],\n",
       "       [24.61010586],\n",
       "       [15.2843709 ],\n",
       "       [53.18012778],\n",
       "       [28.15463908],\n",
       "       [27.19220514],\n",
       "       [26.32272738],\n",
       "       [52.53006928],\n",
       "       [30.42115481],\n",
       "       [25.78127338],\n",
       "       [35.57455811],\n",
       "       [53.778552  ],\n",
       "       [53.99954893],\n",
       "       [30.44100048],\n",
       "       [44.14616464],\n",
       "       [27.16386707],\n",
       "       [57.07814289],\n",
       "       [36.70330382],\n",
       "       [19.1206505 ],\n",
       "       [23.22652397],\n",
       "       [34.65233159],\n",
       "       [43.68926059],\n",
       "       [47.45581253],\n",
       "       [35.93488017],\n",
       "       [53.14095914],\n",
       "       [59.97287158],\n",
       "       [36.64413404],\n",
       "       [31.15430767],\n",
       "       [20.63766861],\n",
       "       [50.81476739],\n",
       "       [55.59642861],\n",
       "       [20.67748719],\n",
       "       [44.27233345],\n",
       "       [33.26486213],\n",
       "       [34.19218083],\n",
       "       [19.36508085],\n",
       "       [20.12460607],\n",
       "       [28.50014411],\n",
       "       [27.90535541],\n",
       "       [54.45036573],\n",
       "       [19.52883535],\n",
       "       [36.53336599],\n",
       "       [50.73530147],\n",
       "       [28.2510113 ],\n",
       "       [19.21103827],\n",
       "       [23.92475387],\n",
       "       [28.13662921],\n",
       "       [18.12865721],\n",
       "       [44.69057698],\n",
       "       [33.11727514],\n",
       "       [33.2171859 ],\n",
       "       [38.48765977],\n",
       "       [34.82395079],\n",
       "       [49.01036872],\n",
       "       [50.64832702],\n",
       "       [38.79295445],\n",
       "       [31.50173146],\n",
       "       [52.94685815],\n",
       "       [20.55710969],\n",
       "       [26.07212818],\n",
       "       [37.3765736 ],\n",
       "       [26.46988824],\n",
       "       [55.73617185],\n",
       "       [32.75695309],\n",
       "       [33.82598965],\n",
       "       [51.50390997],\n",
       "       [27.0804715 ],\n",
       "       [30.35479724],\n",
       "       [38.44497984],\n",
       "       [25.37124505],\n",
       "       [32.01080185],\n",
       "       [34.25274625],\n",
       "       [35.35396881],\n",
       "       [39.53654851],\n",
       "       [32.65265833],\n",
       "       [28.10106   ],\n",
       "       [39.71562193],\n",
       "       [18.3383156 ],\n",
       "       [48.92165464],\n",
       "       [25.40018595],\n",
       "       [33.19149392],\n",
       "       [40.04244436],\n",
       "       [64.09480821],\n",
       "       [31.29589063],\n",
       "       [35.47632435],\n",
       "       [41.05579242],\n",
       "       [31.95174771],\n",
       "       [42.35933507],\n",
       "       [25.83166994],\n",
       "       [60.94904769],\n",
       "       [26.53762912],\n",
       "       [17.94215958],\n",
       "       [20.23211032],\n",
       "       [15.80039131],\n",
       "       [19.23096169],\n",
       "       [40.11868644],\n",
       "       [32.57083932],\n",
       "       [30.17452876],\n",
       "       [47.22636386],\n",
       "       [33.75408333],\n",
       "       [24.46999351],\n",
       "       [19.35613166],\n",
       "       [54.53287457],\n",
       "       [61.41481008],\n",
       "       [36.69493012],\n",
       "       [11.3561288 ],\n",
       "       [18.7891324 ],\n",
       "       [38.2658533 ],\n",
       "       [46.79880383],\n",
       "       [32.86190911],\n",
       "       [17.78999752],\n",
       "       [16.71311028],\n",
       "       [35.72559271],\n",
       "       [48.2815388 ],\n",
       "       [25.43305003],\n",
       "       [27.48753363],\n",
       "       [16.64317154],\n",
       "       [24.86054177],\n",
       "       [28.38943703],\n",
       "       [26.67315248],\n",
       "       [19.09682716],\n",
       "       [31.01511406],\n",
       "       [30.72256376],\n",
       "       [47.940352  ],\n",
       "       [30.38164541],\n",
       "       [30.6973179 ],\n",
       "       [22.37542679],\n",
       "       [38.99061925],\n",
       "       [42.30611231],\n",
       "       [23.85396383],\n",
       "       [25.98498473],\n",
       "       [33.04462783],\n",
       "       [23.2511946 ],\n",
       "       [56.22302284],\n",
       "       [53.55290649],\n",
       "       [57.50570292],\n",
       "       [11.07744576],\n",
       "       [30.86133857],\n",
       "       [33.66699176],\n",
       "       [24.51156194],\n",
       "       [58.85313339],\n",
       "       [21.73012463],\n",
       "       [21.6715475 ],\n",
       "       [16.76429778],\n",
       "       [48.96693486],\n",
       "       [23.43349435],\n",
       "       [39.58374147],\n",
       "       [33.1508203 ],\n",
       "       [31.80351525],\n",
       "       [19.05087087],\n",
       "       [39.01530395],\n",
       "       [31.12162819],\n",
       "       [27.52610696],\n",
       "       [40.5645329 ],\n",
       "       [39.77782127],\n",
       "       [28.2794236 ],\n",
       "       [50.81476739],\n",
       "       [21.13481475],\n",
       "       [72.5786381 ],\n",
       "       [44.40289593],\n",
       "       [27.85947812],\n",
       "       [14.5952874 ],\n",
       "       [29.01630375],\n",
       "       [31.45197306],\n",
       "       [27.59915071],\n",
       "       [30.83386442],\n",
       "       [58.50339193],\n",
       "       [17.54279168],\n",
       "       [20.87181766],\n",
       "       [41.32846477],\n",
       "       [31.65829014],\n",
       "       [33.38443905],\n",
       "       [23.72002409],\n",
       "       [39.03462342],\n",
       "       [30.55013048],\n",
       "       [30.96060592],\n",
       "       [25.37953879],\n",
       "       [49.34699553],\n",
       "       [22.91129371],\n",
       "       [23.1092617 ],\n",
       "       [22.65157583],\n",
       "       [26.08448762],\n",
       "       [21.78754505],\n",
       "       [22.47657844],\n",
       "       [39.31632164],\n",
       "       [19.55695594],\n",
       "       [39.96129584],\n",
       "       [57.60243918],\n",
       "       [31.8301572 ],\n",
       "       [38.86583991],\n",
       "       [36.42802384],\n",
       "       [41.33046758],\n",
       "       [36.12171674],\n",
       "       [25.89789821],\n",
       "       [32.6426614 ],\n",
       "       [34.30013127],\n",
       "       [45.38591085],\n",
       "       [36.45361983],\n",
       "       [37.13526249],\n",
       "       [61.17733737],\n",
       "       [21.27825603],\n",
       "       [35.44941567],\n",
       "       [31.80667679],\n",
       "       [31.65204539],\n",
       "       [36.22052157],\n",
       "       [31.00588996],\n",
       "       [59.54177162],\n",
       "       [59.15345043],\n",
       "       [26.93960768],\n",
       "       [42.88523636],\n",
       "       [33.06990341],\n",
       "       [27.90908496],\n",
       "       [31.37769672],\n",
       "       [49.13712175],\n",
       "       [28.20729783],\n",
       "       [35.20545144],\n",
       "       [15.77694914],\n",
       "       [11.66984552],\n",
       "       [40.05587421],\n",
       "       [35.98386571],\n",
       "       [31.06107304],\n",
       "       [38.74201295],\n",
       "       [21.55796565],\n",
       "       [24.54719309],\n",
       "       [19.59768746]])"
      ]
     },
     "execution_count": 11,
     "metadata": {},
     "output_type": "execute_result"
    }
   ],
   "source": [
    "y_pred"
   ]
  },
  {
   "cell_type": "code",
   "execution_count": 12,
   "id": "bf4a7fbe",
   "metadata": {},
   "outputs": [
    {
     "name": "stdout",
     "output_type": "stream",
     "text": [
      "MSE: 95.88863777582235\n"
     ]
    }
   ],
   "source": [
    "mse = mean_squared_error(ytest, y_pred)\n",
    "print('MSE:', mse)"
   ]
  },
  {
   "cell_type": "code",
   "execution_count": 13,
   "id": "48a8510c",
   "metadata": {},
   "outputs": [
    {
     "data": {
      "text/plain": [
       "0.6234704748356753"
      ]
     },
     "execution_count": 13,
     "metadata": {},
     "output_type": "execute_result"
    }
   ],
   "source": [
    "model.score(xtest, ytest) #testing score"
   ]
  },
  {
   "cell_type": "code",
   "execution_count": 15,
   "id": "bd11b088",
   "metadata": {},
   "outputs": [
    {
     "data": {
      "text/plain": [
       "0.6108763464892633"
      ]
     },
     "execution_count": 15,
     "metadata": {},
     "output_type": "execute_result"
    }
   ],
   "source": [
    "model.score(xtrain, ytrain) # training score"
   ]
  },
  {
   "cell_type": "markdown",
   "id": "01ad2583",
   "metadata": {},
   "source": [
    "# Polynomial"
   ]
  },
  {
   "cell_type": "code",
   "execution_count": 16,
   "id": "15c26cd0",
   "metadata": {},
   "outputs": [],
   "source": [
    "from sklearn.preprocessing import PolynomialFeatures"
   ]
  },
  {
   "cell_type": "markdown",
   "id": "357296e1",
   "metadata": {},
   "source": [
    "# Degree 2"
   ]
  },
  {
   "cell_type": "code",
   "execution_count": 17,
   "id": "b6d95cb4",
   "metadata": {},
   "outputs": [],
   "source": [
    "poly = PolynomialFeatures(degree=2)\n",
    "X_poly = poly.fit_transform(x)"
   ]
  },
  {
   "cell_type": "code",
   "execution_count": 18,
   "id": "61855a99",
   "metadata": {},
   "outputs": [
    {
     "data": {
      "text/html": [
       "<div>\n",
       "<style scoped>\n",
       "    .dataframe tbody tr th:only-of-type {\n",
       "        vertical-align: middle;\n",
       "    }\n",
       "\n",
       "    .dataframe tbody tr th {\n",
       "        vertical-align: top;\n",
       "    }\n",
       "\n",
       "    .dataframe thead th {\n",
       "        text-align: right;\n",
       "    }\n",
       "</style>\n",
       "<table border=\"1\" class=\"dataframe\">\n",
       "  <thead>\n",
       "    <tr style=\"text-align: right;\">\n",
       "      <th></th>\n",
       "      <th>0</th>\n",
       "      <th>1</th>\n",
       "      <th>2</th>\n",
       "      <th>3</th>\n",
       "      <th>4</th>\n",
       "      <th>5</th>\n",
       "      <th>6</th>\n",
       "      <th>7</th>\n",
       "      <th>8</th>\n",
       "      <th>9</th>\n",
       "      <th>...</th>\n",
       "      <th>45</th>\n",
       "      <th>46</th>\n",
       "      <th>47</th>\n",
       "      <th>48</th>\n",
       "      <th>49</th>\n",
       "      <th>50</th>\n",
       "      <th>51</th>\n",
       "      <th>52</th>\n",
       "      <th>53</th>\n",
       "      <th>54</th>\n",
       "    </tr>\n",
       "  </thead>\n",
       "  <tbody>\n",
       "    <tr>\n",
       "      <th>0</th>\n",
       "      <td>1.0</td>\n",
       "      <td>540.0</td>\n",
       "      <td>0.0</td>\n",
       "      <td>0.0</td>\n",
       "      <td>162.0</td>\n",
       "      <td>2.5</td>\n",
       "      <td>1040.0</td>\n",
       "      <td>1040.0</td>\n",
       "      <td>676.0</td>\n",
       "      <td>28.0</td>\n",
       "      <td>...</td>\n",
       "      <td>1081600.00</td>\n",
       "      <td>1081600.00</td>\n",
       "      <td>703040.0</td>\n",
       "      <td>29120.0</td>\n",
       "      <td>1081600.00</td>\n",
       "      <td>703040.0</td>\n",
       "      <td>29120.0</td>\n",
       "      <td>456976.00</td>\n",
       "      <td>18928.0</td>\n",
       "      <td>784.0</td>\n",
       "    </tr>\n",
       "    <tr>\n",
       "      <th>1</th>\n",
       "      <td>1.0</td>\n",
       "      <td>540.0</td>\n",
       "      <td>0.0</td>\n",
       "      <td>0.0</td>\n",
       "      <td>162.0</td>\n",
       "      <td>2.5</td>\n",
       "      <td>1055.0</td>\n",
       "      <td>1055.0</td>\n",
       "      <td>676.0</td>\n",
       "      <td>28.0</td>\n",
       "      <td>...</td>\n",
       "      <td>1113025.00</td>\n",
       "      <td>1113025.00</td>\n",
       "      <td>713180.0</td>\n",
       "      <td>29540.0</td>\n",
       "      <td>1113025.00</td>\n",
       "      <td>713180.0</td>\n",
       "      <td>29540.0</td>\n",
       "      <td>456976.00</td>\n",
       "      <td>18928.0</td>\n",
       "      <td>784.0</td>\n",
       "    </tr>\n",
       "    <tr>\n",
       "      <th>2</th>\n",
       "      <td>1.0</td>\n",
       "      <td>332.5</td>\n",
       "      <td>142.5</td>\n",
       "      <td>0.0</td>\n",
       "      <td>228.0</td>\n",
       "      <td>0.0</td>\n",
       "      <td>932.0</td>\n",
       "      <td>932.0</td>\n",
       "      <td>594.0</td>\n",
       "      <td>270.0</td>\n",
       "      <td>...</td>\n",
       "      <td>868624.00</td>\n",
       "      <td>868624.00</td>\n",
       "      <td>553608.0</td>\n",
       "      <td>251640.0</td>\n",
       "      <td>868624.00</td>\n",
       "      <td>553608.0</td>\n",
       "      <td>251640.0</td>\n",
       "      <td>352836.00</td>\n",
       "      <td>160380.0</td>\n",
       "      <td>72900.0</td>\n",
       "    </tr>\n",
       "    <tr>\n",
       "      <th>3</th>\n",
       "      <td>1.0</td>\n",
       "      <td>332.5</td>\n",
       "      <td>142.5</td>\n",
       "      <td>0.0</td>\n",
       "      <td>228.0</td>\n",
       "      <td>0.0</td>\n",
       "      <td>932.0</td>\n",
       "      <td>932.0</td>\n",
       "      <td>594.0</td>\n",
       "      <td>365.0</td>\n",
       "      <td>...</td>\n",
       "      <td>868624.00</td>\n",
       "      <td>868624.00</td>\n",
       "      <td>553608.0</td>\n",
       "      <td>340180.0</td>\n",
       "      <td>868624.00</td>\n",
       "      <td>553608.0</td>\n",
       "      <td>340180.0</td>\n",
       "      <td>352836.00</td>\n",
       "      <td>216810.0</td>\n",
       "      <td>133225.0</td>\n",
       "    </tr>\n",
       "    <tr>\n",
       "      <th>4</th>\n",
       "      <td>1.0</td>\n",
       "      <td>198.6</td>\n",
       "      <td>132.4</td>\n",
       "      <td>0.0</td>\n",
       "      <td>192.0</td>\n",
       "      <td>0.0</td>\n",
       "      <td>978.4</td>\n",
       "      <td>978.4</td>\n",
       "      <td>825.5</td>\n",
       "      <td>360.0</td>\n",
       "      <td>...</td>\n",
       "      <td>957266.56</td>\n",
       "      <td>957266.56</td>\n",
       "      <td>807669.2</td>\n",
       "      <td>352224.0</td>\n",
       "      <td>957266.56</td>\n",
       "      <td>807669.2</td>\n",
       "      <td>352224.0</td>\n",
       "      <td>681450.25</td>\n",
       "      <td>297180.0</td>\n",
       "      <td>129600.0</td>\n",
       "    </tr>\n",
       "  </tbody>\n",
       "</table>\n",
       "<p>5 rows × 55 columns</p>\n",
       "</div>"
      ],
      "text/plain": [
       "    0      1      2    3      4    5       6       7      8      9   ...  \\\n",
       "0  1.0  540.0    0.0  0.0  162.0  2.5  1040.0  1040.0  676.0   28.0  ...   \n",
       "1  1.0  540.0    0.0  0.0  162.0  2.5  1055.0  1055.0  676.0   28.0  ...   \n",
       "2  1.0  332.5  142.5  0.0  228.0  0.0   932.0   932.0  594.0  270.0  ...   \n",
       "3  1.0  332.5  142.5  0.0  228.0  0.0   932.0   932.0  594.0  365.0  ...   \n",
       "4  1.0  198.6  132.4  0.0  192.0  0.0   978.4   978.4  825.5  360.0  ...   \n",
       "\n",
       "           45          46        47        48          49        50        51  \\\n",
       "0  1081600.00  1081600.00  703040.0   29120.0  1081600.00  703040.0   29120.0   \n",
       "1  1113025.00  1113025.00  713180.0   29540.0  1113025.00  713180.0   29540.0   \n",
       "2   868624.00   868624.00  553608.0  251640.0   868624.00  553608.0  251640.0   \n",
       "3   868624.00   868624.00  553608.0  340180.0   868624.00  553608.0  340180.0   \n",
       "4   957266.56   957266.56  807669.2  352224.0   957266.56  807669.2  352224.0   \n",
       "\n",
       "          52        53        54  \n",
       "0  456976.00   18928.0     784.0  \n",
       "1  456976.00   18928.0     784.0  \n",
       "2  352836.00  160380.0   72900.0  \n",
       "3  352836.00  216810.0  133225.0  \n",
       "4  681450.25  297180.0  129600.0  \n",
       "\n",
       "[5 rows x 55 columns]"
      ]
     },
     "execution_count": 18,
     "metadata": {},
     "output_type": "execute_result"
    }
   ],
   "source": [
    "pd.DataFrame(X_poly).head()"
   ]
  },
  {
   "cell_type": "code",
   "execution_count": 19,
   "id": "2b792507",
   "metadata": {},
   "outputs": [],
   "source": [
    "xtrain, xtest, ytrain, ytest = train_test_split(X_poly, y, test_size=0.25, random_state=0)"
   ]
  },
  {
   "cell_type": "code",
   "execution_count": 20,
   "id": "bfc94f32",
   "metadata": {},
   "outputs": [
    {
     "data": {
      "text/plain": [
       "(772, 55)"
      ]
     },
     "execution_count": 20,
     "metadata": {},
     "output_type": "execute_result"
    }
   ],
   "source": [
    "xtrain.shape"
   ]
  },
  {
   "cell_type": "code",
   "execution_count": 21,
   "id": "bf0f4b83",
   "metadata": {},
   "outputs": [
    {
     "data": {
      "text/html": [
       "<style>#sk-container-id-2 {color: black;}#sk-container-id-2 pre{padding: 0;}#sk-container-id-2 div.sk-toggleable {background-color: white;}#sk-container-id-2 label.sk-toggleable__label {cursor: pointer;display: block;width: 100%;margin-bottom: 0;padding: 0.3em;box-sizing: border-box;text-align: center;}#sk-container-id-2 label.sk-toggleable__label-arrow:before {content: \"▸\";float: left;margin-right: 0.25em;color: #696969;}#sk-container-id-2 label.sk-toggleable__label-arrow:hover:before {color: black;}#sk-container-id-2 div.sk-estimator:hover label.sk-toggleable__label-arrow:before {color: black;}#sk-container-id-2 div.sk-toggleable__content {max-height: 0;max-width: 0;overflow: hidden;text-align: left;background-color: #f0f8ff;}#sk-container-id-2 div.sk-toggleable__content pre {margin: 0.2em;color: black;border-radius: 0.25em;background-color: #f0f8ff;}#sk-container-id-2 input.sk-toggleable__control:checked~div.sk-toggleable__content {max-height: 200px;max-width: 100%;overflow: auto;}#sk-container-id-2 input.sk-toggleable__control:checked~label.sk-toggleable__label-arrow:before {content: \"▾\";}#sk-container-id-2 div.sk-estimator input.sk-toggleable__control:checked~label.sk-toggleable__label {background-color: #d4ebff;}#sk-container-id-2 div.sk-label input.sk-toggleable__control:checked~label.sk-toggleable__label {background-color: #d4ebff;}#sk-container-id-2 input.sk-hidden--visually {border: 0;clip: rect(1px 1px 1px 1px);clip: rect(1px, 1px, 1px, 1px);height: 1px;margin: -1px;overflow: hidden;padding: 0;position: absolute;width: 1px;}#sk-container-id-2 div.sk-estimator {font-family: monospace;background-color: #f0f8ff;border: 1px dotted black;border-radius: 0.25em;box-sizing: border-box;margin-bottom: 0.5em;}#sk-container-id-2 div.sk-estimator:hover {background-color: #d4ebff;}#sk-container-id-2 div.sk-parallel-item::after {content: \"\";width: 100%;border-bottom: 1px solid gray;flex-grow: 1;}#sk-container-id-2 div.sk-label:hover label.sk-toggleable__label {background-color: #d4ebff;}#sk-container-id-2 div.sk-serial::before {content: \"\";position: absolute;border-left: 1px solid gray;box-sizing: border-box;top: 0;bottom: 0;left: 50%;z-index: 0;}#sk-container-id-2 div.sk-serial {display: flex;flex-direction: column;align-items: center;background-color: white;padding-right: 0.2em;padding-left: 0.2em;position: relative;}#sk-container-id-2 div.sk-item {position: relative;z-index: 1;}#sk-container-id-2 div.sk-parallel {display: flex;align-items: stretch;justify-content: center;background-color: white;position: relative;}#sk-container-id-2 div.sk-item::before, #sk-container-id-2 div.sk-parallel-item::before {content: \"\";position: absolute;border-left: 1px solid gray;box-sizing: border-box;top: 0;bottom: 0;left: 50%;z-index: -1;}#sk-container-id-2 div.sk-parallel-item {display: flex;flex-direction: column;z-index: 1;position: relative;background-color: white;}#sk-container-id-2 div.sk-parallel-item:first-child::after {align-self: flex-end;width: 50%;}#sk-container-id-2 div.sk-parallel-item:last-child::after {align-self: flex-start;width: 50%;}#sk-container-id-2 div.sk-parallel-item:only-child::after {width: 0;}#sk-container-id-2 div.sk-dashed-wrapped {border: 1px dashed gray;margin: 0 0.4em 0.5em 0.4em;box-sizing: border-box;padding-bottom: 0.4em;background-color: white;}#sk-container-id-2 div.sk-label label {font-family: monospace;font-weight: bold;display: inline-block;line-height: 1.2em;}#sk-container-id-2 div.sk-label-container {text-align: center;}#sk-container-id-2 div.sk-container {/* jupyter's `normalize.less` sets `[hidden] { display: none; }` but bootstrap.min.css set `[hidden] { display: none !important; }` so we also need the `!important` here to be able to override the default hidden behavior on the sphinx rendered scikit-learn.org. See: https://github.com/scikit-learn/scikit-learn/issues/21755 */display: inline-block !important;position: relative;}#sk-container-id-2 div.sk-text-repr-fallback {display: none;}</style><div id=\"sk-container-id-2\" class=\"sk-top-container\"><div class=\"sk-text-repr-fallback\"><pre>LinearRegression()</pre><b>In a Jupyter environment, please rerun this cell to show the HTML representation or trust the notebook. <br />On GitHub, the HTML representation is unable to render, please try loading this page with nbviewer.org.</b></div><div class=\"sk-container\" hidden><div class=\"sk-item\"><div class=\"sk-estimator sk-toggleable\"><input class=\"sk-toggleable__control sk-hidden--visually\" id=\"sk-estimator-id-2\" type=\"checkbox\" checked><label for=\"sk-estimator-id-2\" class=\"sk-toggleable__label sk-toggleable__label-arrow\">LinearRegression</label><div class=\"sk-toggleable__content\"><pre>LinearRegression()</pre></div></div></div></div></div>"
      ],
      "text/plain": [
       "LinearRegression()"
      ]
     },
     "execution_count": 21,
     "metadata": {},
     "output_type": "execute_result"
    }
   ],
   "source": [
    "model2 = LinearRegression()\n",
    "model2.fit(xtrain, ytrain)"
   ]
  },
  {
   "cell_type": "code",
   "execution_count": 22,
   "id": "7a8e7a9f",
   "metadata": {},
   "outputs": [],
   "source": [
    "y_pred2 = model2.predict(xtest)"
   ]
  },
  {
   "cell_type": "code",
   "execution_count": 23,
   "id": "42e492d3",
   "metadata": {},
   "outputs": [
    {
     "data": {
      "text/plain": [
       "array([[35.49812176],\n",
       "       [11.24812176],\n",
       "       [76.24812176],\n",
       "       [53.87312176],\n",
       "       [16.99812176],\n",
       "       [57.74812176],\n",
       "       [50.74812176],\n",
       "       [25.24812176],\n",
       "       [61.24812176],\n",
       "       [49.24812176],\n",
       "       [16.49812176],\n",
       "       [51.99812176],\n",
       "       [32.74812176],\n",
       "       [24.74812176],\n",
       "       [56.62312176],\n",
       "       [67.74812176],\n",
       "       [30.49812176],\n",
       "       [36.49812176],\n",
       "       [51.24812176],\n",
       "       [33.49812176],\n",
       "       [59.49812176],\n",
       "       [38.74812176],\n",
       "       [29.49812176],\n",
       "       [50.24812176],\n",
       "       [21.99812176],\n",
       "       [23.99812176],\n",
       "       [52.12312176],\n",
       "       [25.24812176],\n",
       "       [67.74812176],\n",
       "       [61.99812176],\n",
       "       [17.49812176],\n",
       "       [44.74812176],\n",
       "       [19.49812176],\n",
       "       [29.24812176],\n",
       "       [23.74812176],\n",
       "       [ 9.99812176],\n",
       "       [56.24812176],\n",
       "       [22.74812176],\n",
       "       [23.24812176],\n",
       "       [22.74812176],\n",
       "       [47.62312176],\n",
       "       [38.99812176],\n",
       "       [30.24812176],\n",
       "       [34.74812176],\n",
       "       [56.24812176],\n",
       "       [43.12312176],\n",
       "       [29.99812176],\n",
       "       [42.49812176],\n",
       "       [30.74812176],\n",
       "       [35.49812176],\n",
       "       [41.24812176],\n",
       "       [21.99812176],\n",
       "       [26.74812176],\n",
       "       [44.99812176],\n",
       "       [57.99812176],\n",
       "       [47.49812176],\n",
       "       [36.49812176],\n",
       "       [58.24812176],\n",
       "       [64.12312176],\n",
       "       [40.99812176],\n",
       "       [33.24812176],\n",
       "       [15.99812176],\n",
       "       [53.24812176],\n",
       "       [34.12312176],\n",
       "       [15.99812176],\n",
       "       [45.24812176],\n",
       "       [37.24812176],\n",
       "       [21.99812176],\n",
       "       [15.49812176],\n",
       "       [18.74812176],\n",
       "       [23.99812176],\n",
       "       [27.74812176],\n",
       "       [44.87312176],\n",
       "       [19.37312176],\n",
       "       [33.99812176],\n",
       "       [49.49812176],\n",
       "       [28.99812176],\n",
       "       [16.49812176],\n",
       "       [27.99812176],\n",
       "       [33.24812176],\n",
       "       [12.24812176],\n",
       "       [56.74812176],\n",
       "       [27.49812176],\n",
       "       [29.99812176],\n",
       "       [42.99812176],\n",
       "       [33.74812176],\n",
       "       [37.49812176],\n",
       "       [48.99812176],\n",
       "       [38.99812176],\n",
       "       [37.49812176],\n",
       "       [61.74812176],\n",
       "       [17.49812176],\n",
       "       [21.24812176],\n",
       "       [35.49812176],\n",
       "       [16.99812176],\n",
       "       [53.49812176],\n",
       "       [25.24812176],\n",
       "       [40.62312176],\n",
       "       [45.74812176],\n",
       "       [33.99812176],\n",
       "       [25.74812176],\n",
       "       [37.49812176],\n",
       "       [29.24812176],\n",
       "       [24.24812176],\n",
       "       [41.74812176],\n",
       "       [40.99812176],\n",
       "       [45.49812176],\n",
       "       [24.49812176],\n",
       "       [29.49812176],\n",
       "       [41.49812176],\n",
       "       [12.74812176],\n",
       "       [54.87312176],\n",
       "       [20.74812176],\n",
       "       [30.24812176],\n",
       "       [44.74812176],\n",
       "       [66.74812176],\n",
       "       [33.24812176],\n",
       "       [42.37312176],\n",
       "       [49.99812176],\n",
       "       [26.24812176],\n",
       "       [40.49812176],\n",
       "       [21.74812176],\n",
       "       [68.99812176],\n",
       "       [23.99812176],\n",
       "       [12.24812176],\n",
       "       [14.24812176],\n",
       "       [13.49812176],\n",
       "       [13.49812176],\n",
       "       [43.99812176],\n",
       "       [37.49812176],\n",
       "       [26.24812176],\n",
       "       [46.74812176],\n",
       "       [28.49812176],\n",
       "       [32.37312176],\n",
       "       [ 6.49812176],\n",
       "       [56.99812176],\n",
       "       [36.99812176],\n",
       "       [35.99812176],\n",
       "       [ 3.74812176],\n",
       "       [13.49812176],\n",
       "       [46.74812176],\n",
       "       [47.24812176],\n",
       "       [24.24812176],\n",
       "       [35.24812176],\n",
       "       [14.24812176],\n",
       "       [42.49812176],\n",
       "       [39.99812176],\n",
       "       [18.49812176],\n",
       "       [31.74812176],\n",
       "       [15.99812176],\n",
       "       [17.99812176],\n",
       "       [16.24812176],\n",
       "       [25.24812176],\n",
       "       [27.74812176],\n",
       "       [39.99812176],\n",
       "       [32.49812176],\n",
       "       [37.74812176],\n",
       "       [29.74812176],\n",
       "       [34.74812176],\n",
       "       [22.49812176],\n",
       "       [43.99812176],\n",
       "       [35.24812176],\n",
       "       [14.37312176],\n",
       "       [27.24812176],\n",
       "       [33.24812176],\n",
       "       [11.99812176],\n",
       "       [37.24812176],\n",
       "       [58.49812176],\n",
       "       [34.49812176],\n",
       "       [ 6.49812176],\n",
       "       [42.62312176],\n",
       "       [43.99812176],\n",
       "       [25.74812176],\n",
       "       [33.74812176],\n",
       "       [13.74812176],\n",
       "       [15.74812176],\n",
       "       [12.12312176],\n",
       "       [41.87312176],\n",
       "       [26.49812176],\n",
       "       [44.74812176],\n",
       "       [23.99812176],\n",
       "       [23.74812176],\n",
       "       [18.24812176],\n",
       "       [56.49812176],\n",
       "       [22.24812176],\n",
       "       [38.49812176],\n",
       "       [48.99812176],\n",
       "       [43.99812176],\n",
       "       [25.49812176],\n",
       "       [53.24812176],\n",
       "       [24.49812176],\n",
       "       [63.24812176],\n",
       "       [51.37312176],\n",
       "       [34.99812176],\n",
       "       [ 7.74812176],\n",
       "       [36.74812176],\n",
       "       [38.87312176],\n",
       "       [31.12312176],\n",
       "       [33.74812176],\n",
       "       [67.24812176],\n",
       "       [18.74812176],\n",
       "       [22.49812176],\n",
       "       [36.49812176],\n",
       "       [29.24812176],\n",
       "       [37.37312176],\n",
       "       [15.24812176],\n",
       "       [42.24812176],\n",
       "       [32.49812176],\n",
       "       [42.74812176],\n",
       "       [19.49812176],\n",
       "       [51.24812176],\n",
       "       [19.49812176],\n",
       "       [17.99812176],\n",
       "       [24.74812176],\n",
       "       [39.74812176],\n",
       "       [29.74812176],\n",
       "       [21.99812176],\n",
       "       [34.99812176],\n",
       "       [20.99812176],\n",
       "       [42.62312176],\n",
       "       [63.37312176],\n",
       "       [21.24812176],\n",
       "       [38.99812176],\n",
       "       [35.49812176],\n",
       "       [36.37312176],\n",
       "       [46.49812176],\n",
       "       [26.74812176],\n",
       "       [38.74812176],\n",
       "       [26.24812176],\n",
       "       [45.49812176],\n",
       "       [35.74812176],\n",
       "       [37.74812176],\n",
       "       [55.24812176],\n",
       "       [20.74812176],\n",
       "       [44.49812176],\n",
       "       [24.74812176],\n",
       "       [39.24812176],\n",
       "       [39.12312176],\n",
       "       [23.49812176],\n",
       "       [67.74812176],\n",
       "       [69.74812176],\n",
       "       [41.49812176],\n",
       "       [42.99812176],\n",
       "       [25.49812176],\n",
       "       [26.24812176],\n",
       "       [25.24812176],\n",
       "       [37.24812176],\n",
       "       [28.49812176],\n",
       "       [41.49812176],\n",
       "       [11.99812176],\n",
       "       [ 7.74812176],\n",
       "       [47.24812176],\n",
       "       [45.74812176],\n",
       "       [35.49812176],\n",
       "       [41.99812176],\n",
       "       [22.49812176],\n",
       "       [27.49812176],\n",
       "       [15.74812176]])"
      ]
     },
     "execution_count": 23,
     "metadata": {},
     "output_type": "execute_result"
    }
   ],
   "source": [
    "y_pred2"
   ]
  },
  {
   "cell_type": "code",
   "execution_count": 27,
   "id": "22febd00",
   "metadata": {},
   "outputs": [
    {
     "name": "stdout",
     "output_type": "stream",
     "text": [
      "MSE: 61.5436186179508\n"
     ]
    }
   ],
   "source": [
    "mse = mean_squared_error(ytest, y_pred2)\n",
    "print('MSE:', mse)"
   ]
  },
  {
   "cell_type": "code",
   "execution_count": 28,
   "id": "53e03384",
   "metadata": {},
   "outputs": [
    {
     "data": {
      "text/plain": [
       "0.7583343550120365"
      ]
     },
     "execution_count": 28,
     "metadata": {},
     "output_type": "execute_result"
    }
   ],
   "source": [
    "model2.score(xtest, ytest) #testing score"
   ]
  },
  {
   "cell_type": "code",
   "execution_count": 29,
   "id": "bee144f4",
   "metadata": {},
   "outputs": [
    {
     "data": {
      "text/plain": [
       "0.8183031716441485"
      ]
     },
     "execution_count": 29,
     "metadata": {},
     "output_type": "execute_result"
    }
   ],
   "source": [
    "model2.score(xtrain, ytrain) # training score"
   ]
  },
  {
   "cell_type": "markdown",
   "id": "db65949b",
   "metadata": {},
   "source": [
    "# Degree 3"
   ]
  },
  {
   "cell_type": "code",
   "execution_count": 30,
   "id": "f41a56bc",
   "metadata": {},
   "outputs": [],
   "source": [
    "poly = PolynomialFeatures(degree=3)\n",
    "X_poly_deg3 = poly.fit_transform(x)"
   ]
  },
  {
   "cell_type": "code",
   "execution_count": 31,
   "id": "cf83b496",
   "metadata": {},
   "outputs": [
    {
     "data": {
      "text/plain": [
       "(1030, 220)"
      ]
     },
     "execution_count": 31,
     "metadata": {},
     "output_type": "execute_result"
    }
   ],
   "source": [
    "X_poly_deg3.shape"
   ]
  },
  {
   "cell_type": "code",
   "execution_count": 32,
   "id": "72d015f2",
   "metadata": {},
   "outputs": [],
   "source": [
    "xtrain, xtest, ytrain, ytest = train_test_split(X_poly_deg3, y, test_size=0.25, random_state=0)"
   ]
  },
  {
   "cell_type": "code",
   "execution_count": 33,
   "id": "2dfb1dc5",
   "metadata": {},
   "outputs": [
    {
     "data": {
      "text/html": [
       "<style>#sk-container-id-3 {color: black;}#sk-container-id-3 pre{padding: 0;}#sk-container-id-3 div.sk-toggleable {background-color: white;}#sk-container-id-3 label.sk-toggleable__label {cursor: pointer;display: block;width: 100%;margin-bottom: 0;padding: 0.3em;box-sizing: border-box;text-align: center;}#sk-container-id-3 label.sk-toggleable__label-arrow:before {content: \"▸\";float: left;margin-right: 0.25em;color: #696969;}#sk-container-id-3 label.sk-toggleable__label-arrow:hover:before {color: black;}#sk-container-id-3 div.sk-estimator:hover label.sk-toggleable__label-arrow:before {color: black;}#sk-container-id-3 div.sk-toggleable__content {max-height: 0;max-width: 0;overflow: hidden;text-align: left;background-color: #f0f8ff;}#sk-container-id-3 div.sk-toggleable__content pre {margin: 0.2em;color: black;border-radius: 0.25em;background-color: #f0f8ff;}#sk-container-id-3 input.sk-toggleable__control:checked~div.sk-toggleable__content {max-height: 200px;max-width: 100%;overflow: auto;}#sk-container-id-3 input.sk-toggleable__control:checked~label.sk-toggleable__label-arrow:before {content: \"▾\";}#sk-container-id-3 div.sk-estimator input.sk-toggleable__control:checked~label.sk-toggleable__label {background-color: #d4ebff;}#sk-container-id-3 div.sk-label input.sk-toggleable__control:checked~label.sk-toggleable__label {background-color: #d4ebff;}#sk-container-id-3 input.sk-hidden--visually {border: 0;clip: rect(1px 1px 1px 1px);clip: rect(1px, 1px, 1px, 1px);height: 1px;margin: -1px;overflow: hidden;padding: 0;position: absolute;width: 1px;}#sk-container-id-3 div.sk-estimator {font-family: monospace;background-color: #f0f8ff;border: 1px dotted black;border-radius: 0.25em;box-sizing: border-box;margin-bottom: 0.5em;}#sk-container-id-3 div.sk-estimator:hover {background-color: #d4ebff;}#sk-container-id-3 div.sk-parallel-item::after {content: \"\";width: 100%;border-bottom: 1px solid gray;flex-grow: 1;}#sk-container-id-3 div.sk-label:hover label.sk-toggleable__label {background-color: #d4ebff;}#sk-container-id-3 div.sk-serial::before {content: \"\";position: absolute;border-left: 1px solid gray;box-sizing: border-box;top: 0;bottom: 0;left: 50%;z-index: 0;}#sk-container-id-3 div.sk-serial {display: flex;flex-direction: column;align-items: center;background-color: white;padding-right: 0.2em;padding-left: 0.2em;position: relative;}#sk-container-id-3 div.sk-item {position: relative;z-index: 1;}#sk-container-id-3 div.sk-parallel {display: flex;align-items: stretch;justify-content: center;background-color: white;position: relative;}#sk-container-id-3 div.sk-item::before, #sk-container-id-3 div.sk-parallel-item::before {content: \"\";position: absolute;border-left: 1px solid gray;box-sizing: border-box;top: 0;bottom: 0;left: 50%;z-index: -1;}#sk-container-id-3 div.sk-parallel-item {display: flex;flex-direction: column;z-index: 1;position: relative;background-color: white;}#sk-container-id-3 div.sk-parallel-item:first-child::after {align-self: flex-end;width: 50%;}#sk-container-id-3 div.sk-parallel-item:last-child::after {align-self: flex-start;width: 50%;}#sk-container-id-3 div.sk-parallel-item:only-child::after {width: 0;}#sk-container-id-3 div.sk-dashed-wrapped {border: 1px dashed gray;margin: 0 0.4em 0.5em 0.4em;box-sizing: border-box;padding-bottom: 0.4em;background-color: white;}#sk-container-id-3 div.sk-label label {font-family: monospace;font-weight: bold;display: inline-block;line-height: 1.2em;}#sk-container-id-3 div.sk-label-container {text-align: center;}#sk-container-id-3 div.sk-container {/* jupyter's `normalize.less` sets `[hidden] { display: none; }` but bootstrap.min.css set `[hidden] { display: none !important; }` so we also need the `!important` here to be able to override the default hidden behavior on the sphinx rendered scikit-learn.org. See: https://github.com/scikit-learn/scikit-learn/issues/21755 */display: inline-block !important;position: relative;}#sk-container-id-3 div.sk-text-repr-fallback {display: none;}</style><div id=\"sk-container-id-3\" class=\"sk-top-container\"><div class=\"sk-text-repr-fallback\"><pre>LinearRegression()</pre><b>In a Jupyter environment, please rerun this cell to show the HTML representation or trust the notebook. <br />On GitHub, the HTML representation is unable to render, please try loading this page with nbviewer.org.</b></div><div class=\"sk-container\" hidden><div class=\"sk-item\"><div class=\"sk-estimator sk-toggleable\"><input class=\"sk-toggleable__control sk-hidden--visually\" id=\"sk-estimator-id-3\" type=\"checkbox\" checked><label for=\"sk-estimator-id-3\" class=\"sk-toggleable__label sk-toggleable__label-arrow\">LinearRegression</label><div class=\"sk-toggleable__content\"><pre>LinearRegression()</pre></div></div></div></div></div>"
      ],
      "text/plain": [
       "LinearRegression()"
      ]
     },
     "execution_count": 33,
     "metadata": {},
     "output_type": "execute_result"
    }
   ],
   "source": [
    "model2 = LinearRegression()\n",
    "model2.fit(xtrain, ytrain)"
   ]
  },
  {
   "cell_type": "code",
   "execution_count": 34,
   "id": "e8982923",
   "metadata": {},
   "outputs": [],
   "source": [
    "y_pred3 = model2.predict(xtest)"
   ]
  },
  {
   "cell_type": "code",
   "execution_count": 35,
   "id": "c0bafdc7",
   "metadata": {},
   "outputs": [
    {
     "data": {
      "text/plain": [
       "array([[27.49973965],\n",
       "       [ 9.66504041],\n",
       "       [77.35197039],\n",
       "       [57.1737338 ],\n",
       "       [10.94053178],\n",
       "       [41.29410365],\n",
       "       [64.00790872],\n",
       "       [20.66680623],\n",
       "       [74.59501765],\n",
       "       [48.2731725 ],\n",
       "       [16.06983044],\n",
       "       [43.25319123],\n",
       "       [38.47608094],\n",
       "       [18.3861814 ],\n",
       "       [65.51188518],\n",
       "       [61.68401736],\n",
       "       [32.54564208],\n",
       "       [37.38906401],\n",
       "       [56.10617903],\n",
       "       [38.20007134],\n",
       "       [54.3781857 ],\n",
       "       [25.17674452],\n",
       "       [30.62887975],\n",
       "       [54.49062003],\n",
       "       [21.96703059],\n",
       "       [27.40204118],\n",
       "       [69.12491056],\n",
       "       [22.29261454],\n",
       "       [61.68401736],\n",
       "       [70.55567193],\n",
       "       [22.39857106],\n",
       "       [49.04148858],\n",
       "       [22.22752844],\n",
       "       [33.96840682],\n",
       "       [22.94584953],\n",
       "       [ 7.61611016],\n",
       "       [38.13671117],\n",
       "       [25.20705732],\n",
       "       [26.29098315],\n",
       "       [29.47528105],\n",
       "       [52.33070676],\n",
       "       [41.38251249],\n",
       "       [26.25384644],\n",
       "       [41.36661283],\n",
       "       [63.0812947 ],\n",
       "       [38.6144019 ],\n",
       "       [27.00200036],\n",
       "       [41.93702781],\n",
       "       [30.69996537],\n",
       "       [62.41818633],\n",
       "       [44.03632734],\n",
       "       [22.75425086],\n",
       "       [24.84736778],\n",
       "       [40.20271766],\n",
       "       [55.65791454],\n",
       "       [43.64917716],\n",
       "       [42.42853979],\n",
       "       [52.17522342],\n",
       "       [67.97536956],\n",
       "       [54.8251    ],\n",
       "       [34.37454168],\n",
       "       [20.7813339 ],\n",
       "       [53.19644092],\n",
       "       [34.75163985],\n",
       "       [12.97419534],\n",
       "       [54.60031952],\n",
       "       [38.54666302],\n",
       "       [15.57755366],\n",
       "       [11.96582293],\n",
       "       [16.87809893],\n",
       "       [14.18832813],\n",
       "       [26.21581491],\n",
       "       [42.3932234 ],\n",
       "       [20.00423199],\n",
       "       [32.85428132],\n",
       "       [36.78794711],\n",
       "       [30.59996863],\n",
       "       [13.00661565],\n",
       "       [27.44515644],\n",
       "       [41.83144253],\n",
       "       [26.72282709],\n",
       "       [53.07671642],\n",
       "       [24.97255939],\n",
       "       [33.4299704 ],\n",
       "       [49.55898603],\n",
       "       [37.27410139],\n",
       "       [31.04519951],\n",
       "       [44.27689876],\n",
       "       [42.4986773 ],\n",
       "       [38.91605127],\n",
       "       [76.72736347],\n",
       "       [18.14390748],\n",
       "       [13.11026267],\n",
       "       [41.93366126],\n",
       "       [15.40998173],\n",
       "       [34.95527074],\n",
       "       [23.31598318],\n",
       "       [37.83720627],\n",
       "       [46.29914417],\n",
       "       [35.44233631],\n",
       "       [27.63512318],\n",
       "       [28.47076264],\n",
       "       [35.48021416],\n",
       "       [23.49360215],\n",
       "       [45.54771671],\n",
       "       [39.61176773],\n",
       "       [53.15109288],\n",
       "       [17.92828981],\n",
       "       [31.4200077 ],\n",
       "       [42.46981442],\n",
       "       [ 9.71819236],\n",
       "       [38.73707945],\n",
       "       [16.70293407],\n",
       "       [33.62861732],\n",
       "       [49.35902905],\n",
       "       [65.73377854],\n",
       "       [34.92768764],\n",
       "       [47.76625576],\n",
       "       [41.01960473],\n",
       "       [25.86008586],\n",
       "       [37.84910175],\n",
       "       [20.30580204],\n",
       "       [73.96523124],\n",
       "       [29.29926074],\n",
       "       [10.54584756],\n",
       "       [ 9.60981157],\n",
       "       [11.77068696],\n",
       "       [ 8.78684292],\n",
       "       [51.1916016 ],\n",
       "       [40.855041  ],\n",
       "       [32.87302963],\n",
       "       [45.20930593],\n",
       "       [29.35454564],\n",
       "       [28.44315898],\n",
       "       [11.47302471],\n",
       "       [56.1472897 ],\n",
       "       [58.81159101],\n",
       "       [38.12469533],\n",
       "       [ 4.9879228 ],\n",
       "       [12.05736007],\n",
       "       [36.52900562],\n",
       "       [46.27271629],\n",
       "       [21.28338631],\n",
       "       [32.60589181],\n",
       "       [19.20316833],\n",
       "       [30.5290061 ],\n",
       "       [30.07489337],\n",
       "       [16.28704592],\n",
       "       [33.80061533],\n",
       "       [13.97747084],\n",
       "       [11.73180644],\n",
       "       [16.40695413],\n",
       "       [21.734692  ],\n",
       "       [32.68418582],\n",
       "       [38.65159787],\n",
       "       [35.37116114],\n",
       "       [38.69258542],\n",
       "       [27.53122901],\n",
       "       [38.4806277 ],\n",
       "       [25.50287643],\n",
       "       [48.59610596],\n",
       "       [31.75233719],\n",
       "       [14.32538144],\n",
       "       [30.25087332],\n",
       "       [37.36682383],\n",
       "       [11.21245045],\n",
       "       [61.9132115 ],\n",
       "       [52.77473531],\n",
       "       [62.07799803],\n",
       "       [ 8.58439691],\n",
       "       [42.873917  ],\n",
       "       [39.61826421],\n",
       "       [27.12295829],\n",
       "       [55.70274853],\n",
       "       [15.76137273],\n",
       "       [15.3613295 ],\n",
       "       [11.43792149],\n",
       "       [42.91879283],\n",
       "       [27.51400218],\n",
       "       [52.11421248],\n",
       "       [20.42372286],\n",
       "       [22.82720644],\n",
       "       [ 9.80905445],\n",
       "       [55.5409138 ],\n",
       "       [22.73760487],\n",
       "       [67.05177745],\n",
       "       [43.07066473],\n",
       "       [44.57974268],\n",
       "       [20.36861073],\n",
       "       [53.19644092],\n",
       "       [24.63190329],\n",
       "       [85.17474005],\n",
       "       [55.53252481],\n",
       "       [37.11426819],\n",
       "       [ 4.28779133],\n",
       "       [43.19315179],\n",
       "       [34.16203232],\n",
       "       [35.90637567],\n",
       "       [34.9161284 ],\n",
       "       [74.32434264],\n",
       "       [17.70166822],\n",
       "       [23.64279521],\n",
       "       [52.76952001],\n",
       "       [27.22634155],\n",
       "       [38.58865437],\n",
       "       [15.1902676 ],\n",
       "       [41.57590153],\n",
       "       [33.77436823],\n",
       "       [42.65526804],\n",
       "       [18.72947461],\n",
       "       [52.00770386],\n",
       "       [21.63131029],\n",
       "       [14.17417884],\n",
       "       [30.42412015],\n",
       "       [47.42508907],\n",
       "       [27.94297613],\n",
       "       [23.95511249],\n",
       "       [26.53391775],\n",
       "       [19.40817229],\n",
       "       [41.50587464],\n",
       "       [66.47539562],\n",
       "       [18.67164933],\n",
       "       [42.52799773],\n",
       "       [38.75135358],\n",
       "       [52.97194843],\n",
       "       [43.03526865],\n",
       "       [27.98921264],\n",
       "       [41.85775143],\n",
       "       [22.19157416],\n",
       "       [46.66474242],\n",
       "       [32.06245414],\n",
       "       [36.69357965],\n",
       "       [42.976923  ],\n",
       "       [25.02154599],\n",
       "       [45.88374502],\n",
       "       [22.18806442],\n",
       "       [36.23834287],\n",
       "       [33.91732856],\n",
       "       [17.16113345],\n",
       "       [78.62992808],\n",
       "       [62.86819916],\n",
       "       [48.10182218],\n",
       "       [47.46853473],\n",
       "       [28.11529778],\n",
       "       [25.35247389],\n",
       "       [20.09666496],\n",
       "       [31.25548886],\n",
       "       [30.80794116],\n",
       "       [47.00530066],\n",
       "       [10.64241533],\n",
       "       [ 9.60629431],\n",
       "       [46.98944001],\n",
       "       [47.02224608],\n",
       "       [35.4683779 ],\n",
       "       [41.26429564],\n",
       "       [18.97864193],\n",
       "       [13.8651827 ],\n",
       "       [15.82791466]])"
      ]
     },
     "execution_count": 35,
     "metadata": {},
     "output_type": "execute_result"
    }
   ],
   "source": [
    "y_pred3"
   ]
  },
  {
   "cell_type": "code",
   "execution_count": 36,
   "id": "678ad9a1",
   "metadata": {},
   "outputs": [
    {
     "name": "stdout",
     "output_type": "stream",
     "text": [
      "MSE: 52.250992022143706\n"
     ]
    }
   ],
   "source": [
    "mse = mean_squared_error(ytest, y_pred3)\n",
    "print('MSE:', mse)"
   ]
  },
  {
   "cell_type": "code",
   "execution_count": 37,
   "id": "2596b8d3",
   "metadata": {},
   "outputs": [
    {
     "data": {
      "text/plain": [
       "0.7948240618303647"
      ]
     },
     "execution_count": 37,
     "metadata": {},
     "output_type": "execute_result"
    }
   ],
   "source": [
    "model2.score(xtest, ytest) # testing"
   ]
  },
  {
   "cell_type": "code",
   "execution_count": 38,
   "id": "6bcabb32",
   "metadata": {},
   "outputs": [
    {
     "data": {
      "text/plain": [
       "0.9286334838236247"
      ]
     },
     "execution_count": 38,
     "metadata": {},
     "output_type": "execute_result"
    }
   ],
   "source": [
    "model2.score(xtrain, ytrain) # training"
   ]
  },
  {
   "cell_type": "markdown",
   "id": "00bd80b1",
   "metadata": {},
   "source": [
    "Degree 3 give best testing performance."
   ]
  },
  {
   "cell_type": "markdown",
   "id": "f647c44c",
   "metadata": {},
   "source": [
    "# Degree 4"
   ]
  },
  {
   "cell_type": "code",
   "execution_count": 39,
   "id": "ccff4aa4",
   "metadata": {},
   "outputs": [],
   "source": [
    "poly = PolynomialFeatures(degree=4)\n",
    "X_poly_deg4 = poly.fit_transform(x)"
   ]
  },
  {
   "cell_type": "code",
   "execution_count": 40,
   "id": "c27b7214",
   "metadata": {},
   "outputs": [
    {
     "data": {
      "text/plain": [
       "(1030, 715)"
      ]
     },
     "execution_count": 40,
     "metadata": {},
     "output_type": "execute_result"
    }
   ],
   "source": [
    "X_poly_deg4.shape"
   ]
  },
  {
   "cell_type": "code",
   "execution_count": 41,
   "id": "22db234b",
   "metadata": {},
   "outputs": [],
   "source": [
    "xtrain, xtest, ytrain, ytest = train_test_split(X_poly_deg4, y, test_size=0.25, random_state=0)"
   ]
  },
  {
   "cell_type": "code",
   "execution_count": 42,
   "id": "0cd8e624",
   "metadata": {},
   "outputs": [
    {
     "data": {
      "text/html": [
       "<style>#sk-container-id-4 {color: black;}#sk-container-id-4 pre{padding: 0;}#sk-container-id-4 div.sk-toggleable {background-color: white;}#sk-container-id-4 label.sk-toggleable__label {cursor: pointer;display: block;width: 100%;margin-bottom: 0;padding: 0.3em;box-sizing: border-box;text-align: center;}#sk-container-id-4 label.sk-toggleable__label-arrow:before {content: \"▸\";float: left;margin-right: 0.25em;color: #696969;}#sk-container-id-4 label.sk-toggleable__label-arrow:hover:before {color: black;}#sk-container-id-4 div.sk-estimator:hover label.sk-toggleable__label-arrow:before {color: black;}#sk-container-id-4 div.sk-toggleable__content {max-height: 0;max-width: 0;overflow: hidden;text-align: left;background-color: #f0f8ff;}#sk-container-id-4 div.sk-toggleable__content pre {margin: 0.2em;color: black;border-radius: 0.25em;background-color: #f0f8ff;}#sk-container-id-4 input.sk-toggleable__control:checked~div.sk-toggleable__content {max-height: 200px;max-width: 100%;overflow: auto;}#sk-container-id-4 input.sk-toggleable__control:checked~label.sk-toggleable__label-arrow:before {content: \"▾\";}#sk-container-id-4 div.sk-estimator input.sk-toggleable__control:checked~label.sk-toggleable__label {background-color: #d4ebff;}#sk-container-id-4 div.sk-label input.sk-toggleable__control:checked~label.sk-toggleable__label {background-color: #d4ebff;}#sk-container-id-4 input.sk-hidden--visually {border: 0;clip: rect(1px 1px 1px 1px);clip: rect(1px, 1px, 1px, 1px);height: 1px;margin: -1px;overflow: hidden;padding: 0;position: absolute;width: 1px;}#sk-container-id-4 div.sk-estimator {font-family: monospace;background-color: #f0f8ff;border: 1px dotted black;border-radius: 0.25em;box-sizing: border-box;margin-bottom: 0.5em;}#sk-container-id-4 div.sk-estimator:hover {background-color: #d4ebff;}#sk-container-id-4 div.sk-parallel-item::after {content: \"\";width: 100%;border-bottom: 1px solid gray;flex-grow: 1;}#sk-container-id-4 div.sk-label:hover label.sk-toggleable__label {background-color: #d4ebff;}#sk-container-id-4 div.sk-serial::before {content: \"\";position: absolute;border-left: 1px solid gray;box-sizing: border-box;top: 0;bottom: 0;left: 50%;z-index: 0;}#sk-container-id-4 div.sk-serial {display: flex;flex-direction: column;align-items: center;background-color: white;padding-right: 0.2em;padding-left: 0.2em;position: relative;}#sk-container-id-4 div.sk-item {position: relative;z-index: 1;}#sk-container-id-4 div.sk-parallel {display: flex;align-items: stretch;justify-content: center;background-color: white;position: relative;}#sk-container-id-4 div.sk-item::before, #sk-container-id-4 div.sk-parallel-item::before {content: \"\";position: absolute;border-left: 1px solid gray;box-sizing: border-box;top: 0;bottom: 0;left: 50%;z-index: -1;}#sk-container-id-4 div.sk-parallel-item {display: flex;flex-direction: column;z-index: 1;position: relative;background-color: white;}#sk-container-id-4 div.sk-parallel-item:first-child::after {align-self: flex-end;width: 50%;}#sk-container-id-4 div.sk-parallel-item:last-child::after {align-self: flex-start;width: 50%;}#sk-container-id-4 div.sk-parallel-item:only-child::after {width: 0;}#sk-container-id-4 div.sk-dashed-wrapped {border: 1px dashed gray;margin: 0 0.4em 0.5em 0.4em;box-sizing: border-box;padding-bottom: 0.4em;background-color: white;}#sk-container-id-4 div.sk-label label {font-family: monospace;font-weight: bold;display: inline-block;line-height: 1.2em;}#sk-container-id-4 div.sk-label-container {text-align: center;}#sk-container-id-4 div.sk-container {/* jupyter's `normalize.less` sets `[hidden] { display: none; }` but bootstrap.min.css set `[hidden] { display: none !important; }` so we also need the `!important` here to be able to override the default hidden behavior on the sphinx rendered scikit-learn.org. See: https://github.com/scikit-learn/scikit-learn/issues/21755 */display: inline-block !important;position: relative;}#sk-container-id-4 div.sk-text-repr-fallback {display: none;}</style><div id=\"sk-container-id-4\" class=\"sk-top-container\"><div class=\"sk-text-repr-fallback\"><pre>LinearRegression()</pre><b>In a Jupyter environment, please rerun this cell to show the HTML representation or trust the notebook. <br />On GitHub, the HTML representation is unable to render, please try loading this page with nbviewer.org.</b></div><div class=\"sk-container\" hidden><div class=\"sk-item\"><div class=\"sk-estimator sk-toggleable\"><input class=\"sk-toggleable__control sk-hidden--visually\" id=\"sk-estimator-id-4\" type=\"checkbox\" checked><label for=\"sk-estimator-id-4\" class=\"sk-toggleable__label sk-toggleable__label-arrow\">LinearRegression</label><div class=\"sk-toggleable__content\"><pre>LinearRegression()</pre></div></div></div></div></div>"
      ],
      "text/plain": [
       "LinearRegression()"
      ]
     },
     "execution_count": 42,
     "metadata": {},
     "output_type": "execute_result"
    }
   ],
   "source": [
    "model2 = LinearRegression()\n",
    "model2.fit(xtrain, ytrain)"
   ]
  },
  {
   "cell_type": "code",
   "execution_count": 43,
   "id": "ca4e4ab6",
   "metadata": {},
   "outputs": [],
   "source": [
    "y_pred4 = model2.predict(xtest)"
   ]
  },
  {
   "cell_type": "code",
   "execution_count": 44,
   "id": "1bb537f9",
   "metadata": {},
   "outputs": [
    {
     "data": {
      "text/plain": [
       "array([[ 3.17448859e+01],\n",
       "       [ 1.01003111e+01],\n",
       "       [ 8.02135644e+01],\n",
       "       [ 2.21221027e+02],\n",
       "       [ 1.21048403e+01],\n",
       "       [ 4.40667982e+01],\n",
       "       [ 4.25329608e+02],\n",
       "       [ 2.22515016e+01],\n",
       "       [ 1.27789867e+02],\n",
       "       [ 5.23184562e+01],\n",
       "       [ 1.81772018e+01],\n",
       "       [ 3.68900075e+01],\n",
       "       [ 3.77015262e+01],\n",
       "       [ 1.67398288e+01],\n",
       "       [ 9.51433997e+01],\n",
       "       [ 5.16999622e+01],\n",
       "       [ 3.37382031e+01],\n",
       "       [ 3.74627233e+01],\n",
       "       [ 5.73107219e+01],\n",
       "       [ 4.30975976e+01],\n",
       "       [ 3.92790151e+01],\n",
       "       [ 2.38594203e+01],\n",
       "       [ 3.14837845e+01],\n",
       "       [ 5.52715793e+01],\n",
       "       [ 1.86892128e+01],\n",
       "       [ 2.68744426e+01],\n",
       "       [ 8.06033406e+01],\n",
       "       [ 2.27357078e+01],\n",
       "       [ 5.16999622e+01],\n",
       "       [ 7.93375030e+01],\n",
       "       [ 2.05412097e+01],\n",
       "       [ 5.15564609e+01],\n",
       "       [ 1.99323793e+01],\n",
       "       [ 4.21407867e+01],\n",
       "       [ 2.12190819e+01],\n",
       "       [ 8.66816380e+00],\n",
       "       [ 4.04069438e+01],\n",
       "       [ 2.55470433e+01],\n",
       "       [ 2.79304915e+01],\n",
       "       [ 3.02812128e+01],\n",
       "       [ 4.88632584e+01],\n",
       "       [ 3.91014590e+01],\n",
       "       [ 3.52192264e+01],\n",
       "       [ 4.09804855e+01],\n",
       "       [-5.62850962e+02],\n",
       "       [ 3.72749934e+01],\n",
       "       [ 3.00222769e+01],\n",
       "       [ 4.27868762e+01],\n",
       "       [ 3.24838186e+01],\n",
       "       [ 5.37164855e+01],\n",
       "       [ 4.93233385e+01],\n",
       "       [ 2.16366687e+01],\n",
       "       [ 1.20052431e+01],\n",
       "       [ 4.34545350e+01],\n",
       "       [ 4.78589998e+01],\n",
       "       [-8.10970162e+02],\n",
       "       [ 4.80136981e+01],\n",
       "       [ 3.48852887e+01],\n",
       "       [ 6.32783590e+01],\n",
       "       [ 6.68850823e+01],\n",
       "       [ 3.57243953e+01],\n",
       "       [ 1.68061023e+01],\n",
       "       [ 6.11714845e+01],\n",
       "       [ 3.60242663e+01],\n",
       "       [ 1.26763778e+01],\n",
       "       [ 1.43342966e+02],\n",
       "       [ 3.71834984e+01],\n",
       "       [ 1.38935879e+01],\n",
       "       [ 1.61381505e+01],\n",
       "       [ 1.63630491e+01],\n",
       "       [ 9.54481151e+00],\n",
       "       [ 2.94400954e+01],\n",
       "       [ 4.35732398e+01],\n",
       "       [ 2.67107291e+01],\n",
       "       [ 3.26894593e+01],\n",
       "       [ 3.34115978e+01],\n",
       "       [ 4.15589442e+01],\n",
       "       [ 1.56145516e+01],\n",
       "       [ 2.75398784e+01],\n",
       "       [ 3.62672096e+01],\n",
       "       [ 5.50739904e+01],\n",
       "       [ 5.60155177e+01],\n",
       "       [ 2.78520723e+01],\n",
       "       [ 3.30002969e+01],\n",
       "       [ 4.91435027e+01],\n",
       "       [ 3.86004949e+01],\n",
       "       [ 2.97078581e+01],\n",
       "       [ 4.85219293e+01],\n",
       "       [ 1.67267649e+02],\n",
       "       [ 3.54361120e+01],\n",
       "       [ 6.37984882e+01],\n",
       "       [ 1.70220990e+01],\n",
       "       [ 1.07684179e+01],\n",
       "       [ 4.30083747e+01],\n",
       "       [-6.80376146e+00],\n",
       "       [ 4.17941642e+01],\n",
       "       [ 1.55857938e+01],\n",
       "       [ 4.50940156e+01],\n",
       "       [ 5.04942527e+01],\n",
       "       [ 3.08654399e+01],\n",
       "       [ 2.33596719e+01],\n",
       "       [ 2.07581430e+01],\n",
       "       [ 2.76740432e+01],\n",
       "       [-1.93534730e+00],\n",
       "       [ 4.46731544e+01],\n",
       "       [ 4.52054582e+01],\n",
       "       [ 5.13904739e+01],\n",
       "       [ 1.82813313e+01],\n",
       "       [ 3.29612088e+01],\n",
       "       [ 5.57815886e+01],\n",
       "       [ 1.25182736e+01],\n",
       "       [ 5.28539939e+01],\n",
       "       [ 1.89326091e+01],\n",
       "       [ 3.21612022e+01],\n",
       "       [ 3.57268348e+01],\n",
       "       [ 5.87899871e+01],\n",
       "       [ 3.62098670e+01],\n",
       "       [ 3.81331172e+01],\n",
       "       [ 1.89871593e+01],\n",
       "       [ 1.93869515e+01],\n",
       "       [ 4.26327701e+01],\n",
       "       [ 2.19429093e+01],\n",
       "       [ 6.25930743e+01],\n",
       "       [ 3.13118034e+01],\n",
       "       [ 1.31997843e+01],\n",
       "       [ 8.38960507e+00],\n",
       "       [ 1.25763664e+01],\n",
       "       [ 1.24115417e+01],\n",
       "       [ 5.83911987e+01],\n",
       "       [ 3.91424976e+01],\n",
       "       [ 3.65407100e+01],\n",
       "       [ 5.82660651e+01],\n",
       "       [ 3.36937394e+01],\n",
       "       [ 3.18310390e+01],\n",
       "       [ 9.50334742e+00],\n",
       "       [ 4.83114019e+01],\n",
       "       [ 2.54648986e+01],\n",
       "       [ 4.27773605e+01],\n",
       "       [ 5.74817481e+00],\n",
       "       [ 1.54769688e+01],\n",
       "       [ 2.03168960e+01],\n",
       "       [ 5.69569507e+01],\n",
       "       [ 1.93455949e+01],\n",
       "       [ 2.21682754e+01],\n",
       "       [ 1.89708476e+01],\n",
       "       [ 3.20903316e+01],\n",
       "       [ 3.89473257e+01],\n",
       "       [ 1.29312701e+01],\n",
       "       [ 5.00956722e+01],\n",
       "       [ 1.75665064e+01],\n",
       "       [ 1.01394506e+01],\n",
       "       [ 1.44938014e+01],\n",
       "       [ 3.07064634e+01],\n",
       "       [ 3.86797667e+01],\n",
       "       [ 4.03367486e+01],\n",
       "       [ 4.46550217e+01],\n",
       "       [ 3.39029799e+01],\n",
       "       [ 2.52291570e+01],\n",
       "       [ 1.26794920e+01],\n",
       "       [ 2.54103732e+01],\n",
       "       [ 5.14276705e+01],\n",
       "       [ 3.63770929e+01],\n",
       "       [ 2.17968529e+01],\n",
       "       [ 3.07934203e+01],\n",
       "       [ 3.28384981e+01],\n",
       "       [ 1.26088872e+01],\n",
       "       [ 5.09891391e+01],\n",
       "       [ 5.34051814e+01],\n",
       "       [ 5.66033759e+01],\n",
       "       [ 8.60554936e+00],\n",
       "       [ 2.14269614e+02],\n",
       "       [ 5.06635146e+01],\n",
       "       [ 2.73411050e+01],\n",
       "       [ 2.81065536e+01],\n",
       "       [ 1.11672228e+01],\n",
       "       [ 8.34914949e+00],\n",
       "       [ 2.28831702e+01],\n",
       "       [ 4.12699256e+01],\n",
       "       [ 2.88646198e+01],\n",
       "       [ 5.32407499e+01],\n",
       "       [ 1.76571822e+01],\n",
       "       [ 2.54630350e-01],\n",
       "       [ 1.75016365e+01],\n",
       "       [ 1.94693675e+01],\n",
       "       [ 1.88329835e+01],\n",
       "       [ 4.90387071e+02],\n",
       "       [ 3.56422515e+01],\n",
       "       [ 4.49579849e+01],\n",
       "       [ 2.04078355e+01],\n",
       "       [ 6.11714845e+01],\n",
       "       [ 1.99263339e+01],\n",
       "       [ 7.54647174e+01],\n",
       "       [ 5.91215644e+01],\n",
       "       [ 3.71647439e+01],\n",
       "       [ 7.33658817e+00],\n",
       "       [ 4.25859075e+01],\n",
       "       [ 3.26727901e+01],\n",
       "       [ 2.73534174e+01],\n",
       "       [ 4.06851917e+01],\n",
       "       [ 7.44699807e+01],\n",
       "       [ 1.66256328e+01],\n",
       "       [ 2.55379596e+01],\n",
       "       [ 3.97401622e+02],\n",
       "       [ 3.22073035e+01],\n",
       "       [ 3.50309525e+01],\n",
       "       [ 1.55115218e+01],\n",
       "       [ 4.81783357e+01],\n",
       "       [ 3.72991710e+01],\n",
       "       [ 2.02671598e+02],\n",
       "       [ 1.56328311e+01],\n",
       "       [ 5.21340213e+01],\n",
       "       [ 1.70729504e+01],\n",
       "       [ 1.21306651e+01],\n",
       "       [ 3.08137119e+01],\n",
       "       [ 4.59888282e+01],\n",
       "       [ 2.42260185e+01],\n",
       "       [ 2.95913005e+01],\n",
       "       [ 3.06220050e+01],\n",
       "       [ 1.54741798e+01],\n",
       "       [ 4.32019944e+01],\n",
       "       [ 6.48854699e+01],\n",
       "       [ 3.84553435e+00],\n",
       "       [ 1.71419029e+02],\n",
       "       [ 4.48068071e+01],\n",
       "       [ 4.06392067e+02],\n",
       "       [ 4.42312045e+01],\n",
       "       [ 2.36534136e+01],\n",
       "       [ 3.96864658e+01],\n",
       "       [ 2.17327812e+01],\n",
       "       [ 4.78902555e+01],\n",
       "       [ 2.72035480e+01],\n",
       "       [ 3.95478254e+01],\n",
       "       [ 4.82162433e+01],\n",
       "       [ 2.47707830e+01],\n",
       "       [ 4.06580320e+01],\n",
       "       [ 1.88622394e+01],\n",
       "       [ 3.45494666e+01],\n",
       "       [ 1.08834646e+01],\n",
       "       [-5.91604063e+02],\n",
       "       [ 7.11762014e+01],\n",
       "       [ 4.87553802e+01],\n",
       "       [ 5.22551618e+01],\n",
       "       [ 5.50803142e+01],\n",
       "       [ 1.97761684e+01],\n",
       "       [ 2.51826234e+01],\n",
       "       [ 1.77011514e+01],\n",
       "       [ 2.97038031e+01],\n",
       "       [ 3.46568885e+01],\n",
       "       [ 4.86251197e+01],\n",
       "       [ 1.25542855e+01],\n",
       "       [ 1.03349877e+01],\n",
       "       [ 3.97523871e+01],\n",
       "       [ 4.18426261e+01],\n",
       "       [ 3.30613332e+01],\n",
       "       [ 4.12818618e+01],\n",
       "       [ 2.13747754e+01],\n",
       "       [ 1.33526659e+01],\n",
       "       [ 1.26598339e+01]])"
      ]
     },
     "execution_count": 44,
     "metadata": {},
     "output_type": "execute_result"
    }
   ],
   "source": [
    "y_pred4"
   ]
  },
  {
   "cell_type": "code",
   "execution_count": 45,
   "id": "3604549f",
   "metadata": {},
   "outputs": [
    {
     "name": "stdout",
     "output_type": "stream",
     "text": [
      "MSE: 9010.427614213324\n"
     ]
    }
   ],
   "source": [
    "mse = mean_squared_error(ytest, y_pred4)\n",
    "print('MSE:', mse)"
   ]
  },
  {
   "cell_type": "code",
   "execution_count": 46,
   "id": "14ab6e2c",
   "metadata": {},
   "outputs": [
    {
     "data": {
      "text/plain": [
       "-34.38158544956101"
      ]
     },
     "execution_count": 46,
     "metadata": {},
     "output_type": "execute_result"
    }
   ],
   "source": [
    "model2.score(xtest, ytest) # testing"
   ]
  },
  {
   "cell_type": "code",
   "execution_count": 47,
   "id": "9b2d19c2",
   "metadata": {},
   "outputs": [
    {
     "data": {
      "text/plain": [
       "0.9845789399412525"
      ]
     },
     "execution_count": 47,
     "metadata": {},
     "output_type": "execute_result"
    }
   ],
   "source": [
    "model2.score(xtrain, ytrain) # training"
   ]
  },
  {
   "cell_type": "markdown",
   "id": "981abfe2",
   "metadata": {},
   "source": [
    "# Regularization"
   ]
  },
  {
   "cell_type": "code",
   "execution_count": 48,
   "id": "86e615af",
   "metadata": {},
   "outputs": [],
   "source": [
    "x = df[['Cement','Blast Furnace Slag','Fly Ash','Water','Superplasticizer','Coarse Aggregate','Coarse Aggregate','Fine Aggregate','Age']]"
   ]
  },
  {
   "cell_type": "code",
   "execution_count": 49,
   "id": "e70bddbe",
   "metadata": {},
   "outputs": [],
   "source": [
    "y = df[['Strength']]"
   ]
  },
  {
   "cell_type": "code",
   "execution_count": 50,
   "id": "fafd2cf2",
   "metadata": {},
   "outputs": [],
   "source": [
    "xtrain, xtest, ytrain, ytest = train_test_split(x, y, test_size=0.25, random_state=0)"
   ]
  },
  {
   "cell_type": "code",
   "execution_count": 51,
   "id": "ca49412c",
   "metadata": {},
   "outputs": [
    {
     "data": {
      "text/html": [
       "<div>\n",
       "<style scoped>\n",
       "    .dataframe tbody tr th:only-of-type {\n",
       "        vertical-align: middle;\n",
       "    }\n",
       "\n",
       "    .dataframe tbody tr th {\n",
       "        vertical-align: top;\n",
       "    }\n",
       "\n",
       "    .dataframe thead th {\n",
       "        text-align: right;\n",
       "    }\n",
       "</style>\n",
       "<table border=\"1\" class=\"dataframe\">\n",
       "  <thead>\n",
       "    <tr style=\"text-align: right;\">\n",
       "      <th></th>\n",
       "      <th>Cement</th>\n",
       "      <th>Blast Furnace Slag</th>\n",
       "      <th>Fly Ash</th>\n",
       "      <th>Water</th>\n",
       "      <th>Superplasticizer</th>\n",
       "      <th>Coarse Aggregate</th>\n",
       "      <th>Coarse Aggregate</th>\n",
       "      <th>Fine Aggregate</th>\n",
       "      <th>Age</th>\n",
       "    </tr>\n",
       "  </thead>\n",
       "  <tbody>\n",
       "    <tr>\n",
       "      <th>79</th>\n",
       "      <td>531.3</td>\n",
       "      <td>0.0</td>\n",
       "      <td>0.0</td>\n",
       "      <td>141.8</td>\n",
       "      <td>28.2</td>\n",
       "      <td>852.1</td>\n",
       "      <td>852.1</td>\n",
       "      <td>893.7</td>\n",
       "      <td>3</td>\n",
       "    </tr>\n",
       "    <tr>\n",
       "      <th>193</th>\n",
       "      <td>233.8</td>\n",
       "      <td>0.0</td>\n",
       "      <td>94.6</td>\n",
       "      <td>197.9</td>\n",
       "      <td>4.6</td>\n",
       "      <td>947.0</td>\n",
       "      <td>947.0</td>\n",
       "      <td>852.2</td>\n",
       "      <td>100</td>\n",
       "    </tr>\n",
       "    <tr>\n",
       "      <th>367</th>\n",
       "      <td>214.9</td>\n",
       "      <td>53.8</td>\n",
       "      <td>121.9</td>\n",
       "      <td>155.6</td>\n",
       "      <td>9.6</td>\n",
       "      <td>1014.3</td>\n",
       "      <td>1014.3</td>\n",
       "      <td>780.6</td>\n",
       "      <td>56</td>\n",
       "    </tr>\n",
       "    <tr>\n",
       "      <th>181</th>\n",
       "      <td>389.9</td>\n",
       "      <td>189.0</td>\n",
       "      <td>0.0</td>\n",
       "      <td>145.9</td>\n",
       "      <td>22.0</td>\n",
       "      <td>944.7</td>\n",
       "      <td>944.7</td>\n",
       "      <td>755.8</td>\n",
       "      <td>91</td>\n",
       "    </tr>\n",
       "    <tr>\n",
       "      <th>711</th>\n",
       "      <td>305.3</td>\n",
       "      <td>203.5</td>\n",
       "      <td>0.0</td>\n",
       "      <td>203.5</td>\n",
       "      <td>0.0</td>\n",
       "      <td>965.4</td>\n",
       "      <td>965.4</td>\n",
       "      <td>631.0</td>\n",
       "      <td>90</td>\n",
       "    </tr>\n",
       "  </tbody>\n",
       "</table>\n",
       "</div>"
      ],
      "text/plain": [
       "     Cement  Blast Furnace Slag  Fly Ash  Water  Superplasticizer  \\\n",
       "79    531.3                 0.0      0.0  141.8              28.2   \n",
       "193   233.8                 0.0     94.6  197.9               4.6   \n",
       "367   214.9                53.8    121.9  155.6               9.6   \n",
       "181   389.9               189.0      0.0  145.9              22.0   \n",
       "711   305.3               203.5      0.0  203.5               0.0   \n",
       "\n",
       "     Coarse Aggregate  Coarse Aggregate  Fine Aggregate  Age  \n",
       "79              852.1             852.1           893.7    3  \n",
       "193             947.0             947.0           852.2  100  \n",
       "367            1014.3            1014.3           780.6   56  \n",
       "181             944.7             944.7           755.8   91  \n",
       "711             965.4             965.4           631.0   90  "
      ]
     },
     "execution_count": 51,
     "metadata": {},
     "output_type": "execute_result"
    }
   ],
   "source": [
    "xtrain.head()"
   ]
  },
  {
   "cell_type": "markdown",
   "id": "66914fb8",
   "metadata": {},
   "source": [
    "# L1 Regularization with LR - Lasso"
   ]
  },
  {
   "cell_type": "code",
   "execution_count": 52,
   "id": "85ec309f",
   "metadata": {},
   "outputs": [
    {
     "data": {
      "text/html": [
       "<style>#sk-container-id-5 {color: black;}#sk-container-id-5 pre{padding: 0;}#sk-container-id-5 div.sk-toggleable {background-color: white;}#sk-container-id-5 label.sk-toggleable__label {cursor: pointer;display: block;width: 100%;margin-bottom: 0;padding: 0.3em;box-sizing: border-box;text-align: center;}#sk-container-id-5 label.sk-toggleable__label-arrow:before {content: \"▸\";float: left;margin-right: 0.25em;color: #696969;}#sk-container-id-5 label.sk-toggleable__label-arrow:hover:before {color: black;}#sk-container-id-5 div.sk-estimator:hover label.sk-toggleable__label-arrow:before {color: black;}#sk-container-id-5 div.sk-toggleable__content {max-height: 0;max-width: 0;overflow: hidden;text-align: left;background-color: #f0f8ff;}#sk-container-id-5 div.sk-toggleable__content pre {margin: 0.2em;color: black;border-radius: 0.25em;background-color: #f0f8ff;}#sk-container-id-5 input.sk-toggleable__control:checked~div.sk-toggleable__content {max-height: 200px;max-width: 100%;overflow: auto;}#sk-container-id-5 input.sk-toggleable__control:checked~label.sk-toggleable__label-arrow:before {content: \"▾\";}#sk-container-id-5 div.sk-estimator input.sk-toggleable__control:checked~label.sk-toggleable__label {background-color: #d4ebff;}#sk-container-id-5 div.sk-label input.sk-toggleable__control:checked~label.sk-toggleable__label {background-color: #d4ebff;}#sk-container-id-5 input.sk-hidden--visually {border: 0;clip: rect(1px 1px 1px 1px);clip: rect(1px, 1px, 1px, 1px);height: 1px;margin: -1px;overflow: hidden;padding: 0;position: absolute;width: 1px;}#sk-container-id-5 div.sk-estimator {font-family: monospace;background-color: #f0f8ff;border: 1px dotted black;border-radius: 0.25em;box-sizing: border-box;margin-bottom: 0.5em;}#sk-container-id-5 div.sk-estimator:hover {background-color: #d4ebff;}#sk-container-id-5 div.sk-parallel-item::after {content: \"\";width: 100%;border-bottom: 1px solid gray;flex-grow: 1;}#sk-container-id-5 div.sk-label:hover label.sk-toggleable__label {background-color: #d4ebff;}#sk-container-id-5 div.sk-serial::before {content: \"\";position: absolute;border-left: 1px solid gray;box-sizing: border-box;top: 0;bottom: 0;left: 50%;z-index: 0;}#sk-container-id-5 div.sk-serial {display: flex;flex-direction: column;align-items: center;background-color: white;padding-right: 0.2em;padding-left: 0.2em;position: relative;}#sk-container-id-5 div.sk-item {position: relative;z-index: 1;}#sk-container-id-5 div.sk-parallel {display: flex;align-items: stretch;justify-content: center;background-color: white;position: relative;}#sk-container-id-5 div.sk-item::before, #sk-container-id-5 div.sk-parallel-item::before {content: \"\";position: absolute;border-left: 1px solid gray;box-sizing: border-box;top: 0;bottom: 0;left: 50%;z-index: -1;}#sk-container-id-5 div.sk-parallel-item {display: flex;flex-direction: column;z-index: 1;position: relative;background-color: white;}#sk-container-id-5 div.sk-parallel-item:first-child::after {align-self: flex-end;width: 50%;}#sk-container-id-5 div.sk-parallel-item:last-child::after {align-self: flex-start;width: 50%;}#sk-container-id-5 div.sk-parallel-item:only-child::after {width: 0;}#sk-container-id-5 div.sk-dashed-wrapped {border: 1px dashed gray;margin: 0 0.4em 0.5em 0.4em;box-sizing: border-box;padding-bottom: 0.4em;background-color: white;}#sk-container-id-5 div.sk-label label {font-family: monospace;font-weight: bold;display: inline-block;line-height: 1.2em;}#sk-container-id-5 div.sk-label-container {text-align: center;}#sk-container-id-5 div.sk-container {/* jupyter's `normalize.less` sets `[hidden] { display: none; }` but bootstrap.min.css set `[hidden] { display: none !important; }` so we also need the `!important` here to be able to override the default hidden behavior on the sphinx rendered scikit-learn.org. See: https://github.com/scikit-learn/scikit-learn/issues/21755 */display: inline-block !important;position: relative;}#sk-container-id-5 div.sk-text-repr-fallback {display: none;}</style><div id=\"sk-container-id-5\" class=\"sk-top-container\"><div class=\"sk-text-repr-fallback\"><pre>Lasso(alpha=0.1)</pre><b>In a Jupyter environment, please rerun this cell to show the HTML representation or trust the notebook. <br />On GitHub, the HTML representation is unable to render, please try loading this page with nbviewer.org.</b></div><div class=\"sk-container\" hidden><div class=\"sk-item\"><div class=\"sk-estimator sk-toggleable\"><input class=\"sk-toggleable__control sk-hidden--visually\" id=\"sk-estimator-id-5\" type=\"checkbox\" checked><label for=\"sk-estimator-id-5\" class=\"sk-toggleable__label sk-toggleable__label-arrow\">Lasso</label><div class=\"sk-toggleable__content\"><pre>Lasso(alpha=0.1)</pre></div></div></div></div></div>"
      ],
      "text/plain": [
       "Lasso(alpha=0.1)"
      ]
     },
     "execution_count": 52,
     "metadata": {},
     "output_type": "execute_result"
    }
   ],
   "source": [
    "lasso_model = Lasso(alpha=0.1) # Tune alpha parameter\n",
    "lasso_model.fit(xtrain, ytrain)"
   ]
  },
  {
   "cell_type": "markdown",
   "id": "aedc7b17",
   "metadata": {},
   "source": [
    "# Performance"
   ]
  },
  {
   "cell_type": "code",
   "execution_count": 54,
   "id": "b112ba61",
   "metadata": {},
   "outputs": [
    {
     "name": "stdout",
     "output_type": "stream",
     "text": [
      "Lasso MSE: 95.85112533879942\n"
     ]
    }
   ],
   "source": [
    "lasso_predictions = lasso_model.predict(xtest)\n",
    "lasso_mse = mean_squared_error(ytest, lasso_predictions)\n",
    "print('Lasso MSE:', lasso_mse)"
   ]
  },
  {
   "cell_type": "code",
   "execution_count": 55,
   "id": "9a2e0c50",
   "metadata": {},
   "outputs": [
    {
     "data": {
      "text/plain": [
       "0.6236177763348688"
      ]
     },
     "execution_count": 55,
     "metadata": {},
     "output_type": "execute_result"
    }
   ],
   "source": [
    "lasso_model.score(xtest, ytest)"
   ]
  },
  {
   "cell_type": "markdown",
   "id": "0e38b4b3",
   "metadata": {},
   "source": [
    "# L2 Regularization with LR - Ridge"
   ]
  },
  {
   "cell_type": "code",
   "execution_count": 56,
   "id": "58249764",
   "metadata": {},
   "outputs": [
    {
     "data": {
      "text/html": [
       "<style>#sk-container-id-6 {color: black;}#sk-container-id-6 pre{padding: 0;}#sk-container-id-6 div.sk-toggleable {background-color: white;}#sk-container-id-6 label.sk-toggleable__label {cursor: pointer;display: block;width: 100%;margin-bottom: 0;padding: 0.3em;box-sizing: border-box;text-align: center;}#sk-container-id-6 label.sk-toggleable__label-arrow:before {content: \"▸\";float: left;margin-right: 0.25em;color: #696969;}#sk-container-id-6 label.sk-toggleable__label-arrow:hover:before {color: black;}#sk-container-id-6 div.sk-estimator:hover label.sk-toggleable__label-arrow:before {color: black;}#sk-container-id-6 div.sk-toggleable__content {max-height: 0;max-width: 0;overflow: hidden;text-align: left;background-color: #f0f8ff;}#sk-container-id-6 div.sk-toggleable__content pre {margin: 0.2em;color: black;border-radius: 0.25em;background-color: #f0f8ff;}#sk-container-id-6 input.sk-toggleable__control:checked~div.sk-toggleable__content {max-height: 200px;max-width: 100%;overflow: auto;}#sk-container-id-6 input.sk-toggleable__control:checked~label.sk-toggleable__label-arrow:before {content: \"▾\";}#sk-container-id-6 div.sk-estimator input.sk-toggleable__control:checked~label.sk-toggleable__label {background-color: #d4ebff;}#sk-container-id-6 div.sk-label input.sk-toggleable__control:checked~label.sk-toggleable__label {background-color: #d4ebff;}#sk-container-id-6 input.sk-hidden--visually {border: 0;clip: rect(1px 1px 1px 1px);clip: rect(1px, 1px, 1px, 1px);height: 1px;margin: -1px;overflow: hidden;padding: 0;position: absolute;width: 1px;}#sk-container-id-6 div.sk-estimator {font-family: monospace;background-color: #f0f8ff;border: 1px dotted black;border-radius: 0.25em;box-sizing: border-box;margin-bottom: 0.5em;}#sk-container-id-6 div.sk-estimator:hover {background-color: #d4ebff;}#sk-container-id-6 div.sk-parallel-item::after {content: \"\";width: 100%;border-bottom: 1px solid gray;flex-grow: 1;}#sk-container-id-6 div.sk-label:hover label.sk-toggleable__label {background-color: #d4ebff;}#sk-container-id-6 div.sk-serial::before {content: \"\";position: absolute;border-left: 1px solid gray;box-sizing: border-box;top: 0;bottom: 0;left: 50%;z-index: 0;}#sk-container-id-6 div.sk-serial {display: flex;flex-direction: column;align-items: center;background-color: white;padding-right: 0.2em;padding-left: 0.2em;position: relative;}#sk-container-id-6 div.sk-item {position: relative;z-index: 1;}#sk-container-id-6 div.sk-parallel {display: flex;align-items: stretch;justify-content: center;background-color: white;position: relative;}#sk-container-id-6 div.sk-item::before, #sk-container-id-6 div.sk-parallel-item::before {content: \"\";position: absolute;border-left: 1px solid gray;box-sizing: border-box;top: 0;bottom: 0;left: 50%;z-index: -1;}#sk-container-id-6 div.sk-parallel-item {display: flex;flex-direction: column;z-index: 1;position: relative;background-color: white;}#sk-container-id-6 div.sk-parallel-item:first-child::after {align-self: flex-end;width: 50%;}#sk-container-id-6 div.sk-parallel-item:last-child::after {align-self: flex-start;width: 50%;}#sk-container-id-6 div.sk-parallel-item:only-child::after {width: 0;}#sk-container-id-6 div.sk-dashed-wrapped {border: 1px dashed gray;margin: 0 0.4em 0.5em 0.4em;box-sizing: border-box;padding-bottom: 0.4em;background-color: white;}#sk-container-id-6 div.sk-label label {font-family: monospace;font-weight: bold;display: inline-block;line-height: 1.2em;}#sk-container-id-6 div.sk-label-container {text-align: center;}#sk-container-id-6 div.sk-container {/* jupyter's `normalize.less` sets `[hidden] { display: none; }` but bootstrap.min.css set `[hidden] { display: none !important; }` so we also need the `!important` here to be able to override the default hidden behavior on the sphinx rendered scikit-learn.org. See: https://github.com/scikit-learn/scikit-learn/issues/21755 */display: inline-block !important;position: relative;}#sk-container-id-6 div.sk-text-repr-fallback {display: none;}</style><div id=\"sk-container-id-6\" class=\"sk-top-container\"><div class=\"sk-text-repr-fallback\"><pre>Ridge(alpha=0.1)</pre><b>In a Jupyter environment, please rerun this cell to show the HTML representation or trust the notebook. <br />On GitHub, the HTML representation is unable to render, please try loading this page with nbviewer.org.</b></div><div class=\"sk-container\" hidden><div class=\"sk-item\"><div class=\"sk-estimator sk-toggleable\"><input class=\"sk-toggleable__control sk-hidden--visually\" id=\"sk-estimator-id-6\" type=\"checkbox\" checked><label for=\"sk-estimator-id-6\" class=\"sk-toggleable__label sk-toggleable__label-arrow\">Ridge</label><div class=\"sk-toggleable__content\"><pre>Ridge(alpha=0.1)</pre></div></div></div></div></div>"
      ],
      "text/plain": [
       "Ridge(alpha=0.1)"
      ]
     },
     "execution_count": 56,
     "metadata": {},
     "output_type": "execute_result"
    }
   ],
   "source": [
    "ridge_model = Ridge(alpha=0.1) # Tune alpha parameter\n",
    "ridge_model.fit(xtrain, ytrain)"
   ]
  },
  {
   "cell_type": "code",
   "execution_count": 57,
   "id": "0392e4e8",
   "metadata": {},
   "outputs": [
    {
     "name": "stdout",
     "output_type": "stream",
     "text": [
      "Ridge MSE: 95.88862773914813\n"
     ]
    }
   ],
   "source": [
    "ridge_predictions = ridge_model.predict(xtest)\n",
    "ridge_mse = mean_squared_error(ytest, ridge_predictions)\n",
    "\n",
    "print('Ridge MSE:', ridge_mse)"
   ]
  },
  {
   "cell_type": "code",
   "execution_count": 58,
   "id": "ee02ab86",
   "metadata": {},
   "outputs": [
    {
     "data": {
      "text/plain": [
       "0.623470514247062"
      ]
     },
     "execution_count": 58,
     "metadata": {},
     "output_type": "execute_result"
    }
   ],
   "source": [
    "ridge_model.score(xtest, ytest)"
   ]
  },
  {
   "cell_type": "code",
   "execution_count": null,
   "id": "1078b20b",
   "metadata": {},
   "outputs": [],
   "source": []
  }
 ],
 "metadata": {
  "kernelspec": {
   "display_name": "Python 3 (ipykernel)",
   "language": "python",
   "name": "python3"
  },
  "language_info": {
   "codemirror_mode": {
    "name": "ipython",
    "version": 3
   },
   "file_extension": ".py",
   "mimetype": "text/x-python",
   "name": "python",
   "nbconvert_exporter": "python",
   "pygments_lexer": "ipython3",
   "version": "3.11.5"
  }
 },
 "nbformat": 4,
 "nbformat_minor": 5
}
